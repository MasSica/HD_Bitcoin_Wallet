{
 "cells": [
  {
   "cell_type": "code",
   "execution_count": 1,
   "metadata": {},
   "outputs": [],
   "source": [
    "from mnemonic import Mnemonic\n",
    "from fastecdsa import keys, curve\n",
    "import binascii\n",
    "import hashlib\n",
    "import hmac\n"
   ]
  },
  {
   "cell_type": "code",
   "execution_count": 2,
   "metadata": {},
   "outputs": [],
   "source": [
    "\"\"\"here i create a class to store data in a tree like structure\"\"\"\n",
    "\n",
    "class TreeNode():\n",
    "    \n",
    "    def __init__(self,parent):\n",
    "        self.parent=parent\n",
    "        self.pvt_key=None\n",
    "        self.pub_key=None\n",
    "        self.chain_code =None\n",
    "        self.children = []\n",
    "    "
   ]
  },
  {
   "cell_type": "code",
   "execution_count": 3,
   "metadata": {},
   "outputs": [],
   "source": [
    "\"\"\"Here I define the function needed to generate the seed which is going to be used later \"\"\"\n",
    "\n",
    "def generate_seed(language,passphrase,strenght):\n",
    "   mnemo = Mnemonic(language)\n",
    "   words = mnemo.generate(strength=strenght)\n",
    "   seed = mnemo.to_seed(words, passphrase=passphrase)\n",
    "   print(\"Entropy=\" + str( binascii.hexlify(mnemo.to_entropy(words)))) #prints the entropy in hex\n",
    "   print(\"Words= \" + words)   \n",
    "   print(\"Seed = \"+str(binascii.hexlify(seed))) #prints the seed in hex \n",
    "   return seed\n",
    "   \n"
   ]
  },
  {
   "cell_type": "code",
   "execution_count": 4,
   "metadata": {},
   "outputs": [
    {
     "name": "stdout",
     "output_type": "stream",
     "text": [
      "Entropy=b'f6561bd1fa2ebfbc4e4884493e9bce75'\n",
      "Words= wagon radio virtual violin typical taste decrease awesome empty visit vicious tunnel\n",
      "Seed = b'5b480ff5e76644e23a95ab5448d56869e7d1264308dc99968b3138f8e55c7ccd6e68c2bf12a8fcc65b07af329930cff2c595a810ff349f41edb64621b0340cf5'\n"
     ]
    }
   ],
   "source": [
    "seed=generate_seed(\"english\",\"test\",128)"
   ]
  },
  {
   "cell_type": "code",
   "execution_count": 5,
   "metadata": {},
   "outputs": [],
   "source": [
    "def print_info(dictio):\n",
    "    for keys,values in dictio.items():\n",
    "        print(keys.upper())\n",
    "        print(values)\n",
    "   "
   ]
  },
  {
   "cell_type": "code",
   "execution_count": 5,
   "metadata": {},
   "outputs": [],
   "source": [
    "\n",
    "def get_master_info(seed):\n",
    "    master=TreeNode(None)\n",
    "    master_hmac= hmac.new(seed,None,hashlib.sha512).hexdigest()\n",
    "    master_pvt_key=master_hmac[:64]\n",
    "    master.pvt_key=master_pvt_key\n",
    "    master_chain_code=master_hmac[64:]\n",
    "    master.chain_code=master_chain_code\n",
    "    pvt=int(master_pvt_key, 16)\n",
    "    master_pub_key = keys.get_public_key(pvt,curve.secp256k1)\n",
    "    pub_key= hex(master_pub_key.y)[2:4]+hex(master_pub_key.x)[2:] #followed the guide https://en.bitcoin.it/wiki/Technical_background_of_version_1_Bitcoin_addresses#How_to_create_Bitcoin_Address\n",
    "    master.pub_key=pub_key\n",
    "    return master\n"
   ]
  },
  {
   "cell_type": "code",
   "execution_count": 6,
   "metadata": {},
   "outputs": [
    {
     "data": {
      "text/plain": [
       "'3c35984165a8c5c8283b5b1b4981347f646ba99abefc0b3adabc27a3bf828ac6af'"
      ]
     },
     "execution_count": 6,
     "metadata": {},
     "output_type": "execute_result"
    }
   ],
   "source": [
    "master_info=get_master_info(seed)\n",
    "master_info.pub_key\n"
   ]
  },
  {
   "cell_type": "code",
   "execution_count": 7,
   "metadata": {},
   "outputs": [],
   "source": [
    "\"\"\"In this section I define a function to derive child addresses using hardened derivation\"\"\"\n",
    "\n",
    "def create_hardened_children(parent,index,num): #the index should be passed as a 32 bit hex\n",
    "  \n",
    "    for i in range(0,num): \n",
    "        child=TreeNode(parent.pvt_key)\n",
    "        input_bytearray=str.encode(parent.pvt_key)+str.encode(parent.chain_code)+str.encode(hex(int(index, 16)+i)[2:])\n",
    "        child_info=hmac.new(input_bytearray,None,hashlib.sha512).hexdigest()\n",
    "        child.pvt_key=child_info[:64]\n",
    "        child.chain_code=child_info[64:]\n",
    "        pvt=int(child.pvt_key, 16)\n",
    "        child_pub_key=keys.get_public_key(pvt,curve.secp256k1)\n",
    "        pub_key= hex(child_pub_key.y)[2:4]+hex(child_pub_key.x)[2:] #followed the guide https://en.bitcoin.it/wiki/Technical_background_of_version_1_Bitcoin_addresses#How_to_create_Bitcoin_Address\n",
    "        child.pub_key=pub_key\n",
    "        parent.children.append(child)\n",
    "            "
   ]
  },
  {
   "cell_type": "code",
   "execution_count": 8,
   "metadata": {},
   "outputs": [],
   "source": [
    "\"\"\"in this section I create a children from the public key of the master\"\"\"\n",
    "\n",
    "def create_children(parent,index,num): #the index should be passed as a 32 bit hex\n",
    "  \n",
    "    for i in range(0,num): \n",
    "        child=TreeNode(parent.pvt_key)\n",
    "        input_bytearray=str.encode(parent.pub_key)+str.encode(parent.chain_code)+str.encode(hex(int(index, 16)+i)[2:])\n",
    "        child_info=hmac.new(input_bytearray,None,hashlib.sha512).hexdigest()\n",
    "        child.pvt_key=child_info[:64]\n",
    "        child.chain_code=child_info[64:]\n",
    "        pvt=int(child.pvt_key, 16)\n",
    "        child_pub_key=keys.get_public_key(pvt,curve.secp256k1)\n",
    "        pub_key= hex(child_pub_key.y)[2:4]+hex(child_pub_key.x)[2:] #followed the guide https://en.bitcoin.it/wiki/Technical_background_of_version_1_Bitcoin_addresses#How_to_create_Bitcoin_Address\n",
    "        child.pub_key=pub_key\n",
    "        parent.children.append(child)"
   ]
  },
  {
   "cell_type": "code",
   "execution_count": 9,
   "metadata": {},
   "outputs": [
    {
     "name": "stdout",
     "output_type": "stream",
     "text": [
      "Private Key 9caef8c0ddbfcdfde861dc1c637d0b714c2b6ef2c5cf28658a3004a2ce656ddf\n",
      "Public Key c0a5c2d2f6b48484b0b0e4d06f803c8c2d5c5777a9251da7800b742455b228b048\n",
      "Chain Code e29e277d53cbbbaf5f1706ffb089b8c148b8453a33ff8d45f299afc74e7766d8\n",
      "-------------------------------------------------------------------------\n",
      "Private Key ce217f1f07c3aea4080119828989aa48bfcbbb674ebdec93687ee36c6cf7c381\n",
      "Public Key 17dabcee49cae895c882e873dbebc46bec694e04e24703cb792848581aaacdd44f\n",
      "Chain Code 9df8a0cc23e4fa2279ee4bc70e53db8f31c38813971d443aefbec6748a15f0bd\n",
      "-------------------------------------------------------------------------\n",
      "Private Key 9ddbce744ff07a3741de03e5c3cf65d2d3b0d3425d8e88b7d488e59a1f1c645c\n",
      "Public Key 49e262a4f2415e3656ab5a6df1cf78c56142d7dbc4e6bdf08eb77865f9f8a94e14\n",
      "Chain Code 9e20817960cacac6f393d608ad844fbdf80c8d8d0762b2781b4bbeb5fc7c41a3\n",
      "-------------------------------------------------------------------------\n"
     ]
    }
   ],
   "source": [
    "create_children(master_info,\"00000000\",2)\n",
    "create_hardened_children(master_info,\"80000000\",1)\n",
    "\n",
    "for i in master_info.children:\n",
    "        print(\"Private Key \" + i.pvt_key)\n",
    "        print(\"Public Key \" + i.pub_key)\n",
    "        print(\"Chain Code \" + i.chain_code)\n",
    "        print(\"-------------------------------------------------------------------------\")\n",
    "        "
   ]
  },
  {
   "cell_type": "code",
   "execution_count": 10,
   "metadata": {
    "scrolled": false
   },
   "outputs": [
    {
     "name": "stdout",
     "output_type": "stream",
     "text": [
      "Private Key 461c58b739fb663fb216bf5529a3cf85f36861d1de9876a57df1db916698db8b\n",
      "Public Key ab366ee88edd3dbcf33bfc55644b21bfec924ac7521e24d9933cf4eae345581eda\n",
      "Chain Code 3bc2a7f959e3feed51deffdd3258e85bc59ea33b2a17d1ee5c0416ce608dec26\n",
      "-------------------------------------------------------------------------\n",
      "Private Key 8d67d05cdd40ba6c0c841519a06cb0c324078bd228881a4669f842fb7246a068\n",
      "Public Key bba6bc18d30281df30d3b4203572165627a84a3a4ff00d7e47cb89aa5c581982fb\n",
      "Chain Code fd5d6d225c688dab2e40ed3b67f74ee77ed4d2fbf17520ec427957ea4560cc64\n",
      "-------------------------------------------------------------------------\n",
      "Private Key a0f12705ec1cf3bf9a2f248e381a2c2664e2c5a65292721b1259195af641ee29\n",
      "Public Key 1a66b21e4b0aa510d83003553570cacd64d34363e5c959368bed32015b7d09a0b7\n",
      "Chain Code 72210090b84f9e5a01d719a15dc950e6ff7986a9311a176434dc2fdba621173f\n",
      "-------------------------------------------------------------------------\n",
      "Private Key fbed8c7a1d82a83a3a86de68178fa9a9f50c54c661779e342795caec06775138\n",
      "Public Key 25f47b03d5b15b625f9679b10679a8d7281d180e00fe84c042447798228a5aa251\n",
      "Chain Code 8dd9cce174ace7b8fe58bd4cbab5b7f351f1e988d9c277b9893f8704ff38d62f\n",
      "-------------------------------------------------------------------------\n",
      "Private Key 60977551a2cbd86237e43efbb75dd08807f8693316261a9085e63934ca5018c9\n",
      "Public Key f2772a5e06e867b584ef256e16ccf1ee0333af00dcc5c63e7dc9eaa51a4f34f477\n",
      "Chain Code 2b9cef6e985fdd65c4fa3e6bf0608f819bca51b6c0c0a993e88542c9722d307b\n",
      "-------------------------------------------------------------------------\n",
      "Private Key bfc828093f839ec5ef49b74e9a9221a63d4021e8be191e508a1052078e19f2c6\n",
      "Public Key a0c1b8900884b9bded764a4ef272e3b254b804965f9299f403838470b5201b2963\n",
      "Chain Code 02fdaa2561c35dcf80c7a4a6c2fbdfd0fb0497ae1c4f304170845bbea5e8598a\n",
      "-------------------------------------------------------------------------\n",
      "Private Key b0ce56bb0f1dd823e43c422cbee1cfe0fd663150875a0ba89109bafb36add1a0\n",
      "Public Key b1dbe310f2665a60f292dc1a02dfd80ddf686aa0914b75032c0f0e1d9b67fcee31\n",
      "Chain Code bf210369619a7a032a6f224488858e1d74dd595d28d3dbf7612532eee57a459c\n",
      "-------------------------------------------------------------------------\n",
      "Private Key b7c4fc4ad614203e7c62bbfae9d88690c1ad8a0604d4d00f6dcfaf98b3448342\n",
      "Public Key b6cf3dce3b046562be8ab0c0384af3db71a32ac8a72cb97fe8c1815e6c7940bfc8\n",
      "Chain Code 889b428c57abbdb27ffd92df6a26fc598b1a043fcd9280b00716584d37225c1a\n",
      "-------------------------------------------------------------------------\n",
      "Private Key 07c9415d527bcac71816d0940962ec8c85c597700950ca622f1cbf3ea9767129\n",
      "Public Key a23194cfacdaf157aa1047929f570947bb678484cb600aef095906fa8d97f5352e\n",
      "Chain Code 0666d58084bd4de1057394fdfd01b6df1e9386ae816fcdf34bd7dd1ecf5dd27e\n",
      "-------------------------------------------------------------------------\n"
     ]
    }
   ],
   "source": [
    "\"\"\"Lets try to create some grandkids\"\"\"\n",
    "\n",
    "for i in master_info.children:\n",
    "    create_hardened_children(i,\"80000000\",1)\n",
    "    create_children(i,\"00000000\",2)\n",
    "    for j in i.children:\n",
    "        print(\"Private Key \" + j.pvt_key)\n",
    "        print(\"Public Key \" + j.pub_key)\n",
    "        print(\"Chain Code \" + j.chain_code)\n",
    "        print(\"-------------------------------------------------------------------------\")\n",
    "        \n",
    "\n",
    "\n"
   ]
  },
  {
   "cell_type": "code",
   "execution_count": null,
   "metadata": {},
   "outputs": [],
   "source": []
  }
 ],
 "metadata": {
  "kernelspec": {
   "display_name": "Python 3",
   "language": "python",
   "name": "python3"
  },
  "language_info": {
   "codemirror_mode": {
    "name": "ipython",
    "version": 3
   },
   "file_extension": ".py",
   "mimetype": "text/x-python",
   "name": "python",
   "nbconvert_exporter": "python",
   "pygments_lexer": "ipython3",
   "version": "3.8.3"
  }
 },
 "nbformat": 4,
 "nbformat_minor": 4
}
