{
 "cells": [
  {
   "cell_type": "code",
   "execution_count": 1,
   "metadata": {},
   "outputs": [],
   "source": [
    "from mnemonic import Mnemonic\n",
    "from fastecdsa import keys, curve\n",
    "import binascii\n",
    "import hashlib\n",
    "import hmac\n",
    "\n"
   ]
  },
  {
   "cell_type": "code",
   "execution_count": 2,
   "metadata": {},
   "outputs": [],
   "source": [
    "\"\"\"here i create a class to store data in a tree like structure\"\"\"\n",
    "\n",
    "class TreeNode():\n",
    "    \n",
    "    def __init__(self,parent):\n",
    "        self.parent=parent\n",
    "        self.pvt_key=None\n",
    "        self.pub_key=None\n",
    "        self.chain_code =None\n",
    "        self.children = []\n",
    "    "
   ]
  },
  {
   "cell_type": "code",
   "execution_count": 3,
   "metadata": {},
   "outputs": [],
   "source": [
    "\"\"\"Here I define the function needed to generate the seed which is going to be used later \"\"\"\n",
    "\n",
    "def generate_seed(language,passphrase,strenght):\n",
    "   mnemo = Mnemonic(language)\n",
    "   words = mnemo.generate(strength=strenght)\n",
    "   seed = mnemo.to_seed(words, passphrase=passphrase)\n",
    "   print(\"Entropy=\" + str( binascii.hexlify(mnemo.to_entropy(words)))) #prints the entropy in hex\n",
    "   print(\"Words= \" + words)   \n",
    "   print(\"Seed = \"+str(binascii.hexlify(seed))) #prints the seed in hex \n",
    "   return seed\n",
    "   \n"
   ]
  },
  {
   "cell_type": "code",
   "execution_count": 4,
   "metadata": {},
   "outputs": [
    {
     "name": "stdout",
     "output_type": "stream",
     "text": [
      "Entropy=b'f7ae6740de303094752471d6685c9927'\n",
      "Words= waste industry south round adapt enforce stand mixed stool drill chaos example\n",
      "Seed = b'1e2453715fd9f1fd6758f8f746be5875de5fe04638277bc1ef5b9c884466255a1b5517e8fffd9075756aada2d28b9675db9bfceee3a6da0509ec50224d33781f'\n"
     ]
    }
   ],
   "source": [
    "seed=generate_seed(\"english\",\"test\",128)"
   ]
  },
  {
   "cell_type": "code",
   "execution_count": 5,
   "metadata": {},
   "outputs": [],
   "source": [
    "\"\"\"In this section I derive from the seed the master private key and the master chain code, the private key is the one used to have control over your bank account represented by the public key. The bitcoin address is generated/corresponds from the public key\"\"\"\n",
    "\n",
    "def get_master_info(seed):\n",
    "    master=TreeNode(None)\n",
    "    master_hmac= hmac.new(seed,None,hashlib.sha512).hexdigest()\n",
    "    master_pvt_key=master_hmac[:64]\n",
    "    master.pvt_key=master_pvt_key\n",
    "    master_chain_code=master_hmac[64:]\n",
    "    master.chain_code=master_chain_code\n",
    "    pvt=int(master_pvt_key, 16)\n",
    "    master_pub_key = keys.get_public_key(pvt,curve.secp256k1)\n",
    "    pub_key= hex(master_pub_key.y)[2:4]+hex(master_pub_key.x)[2:] #followed the guide https://en.bitcoin.it/wiki/Technical_background_of_version_1_Bitcoin_addresses#How_to_create_Bitcoin_Address\n",
    "    master.pub_key=pub_key\n",
    "    return master\n"
   ]
  },
  {
   "cell_type": "code",
   "execution_count": 6,
   "metadata": {},
   "outputs": [
    {
     "data": {
      "text/plain": [
       "'83f3c2ceafdb81dee4c2f40990501340b6f3927ac8033411f435dc68f2d3b9b18f'"
      ]
     },
     "execution_count": 6,
     "metadata": {},
     "output_type": "execute_result"
    }
   ],
   "source": [
    "master_info=get_master_info(seed)\n",
    "master_info.pub_key\n"
   ]
  },
  {
   "cell_type": "code",
   "execution_count": 7,
   "metadata": {},
   "outputs": [],
   "source": [
    "\"\"\"In this section I define a function to derive child addresses using hardened derivation\"\"\"\n",
    "\n",
    "def create_hardened_children(parent,index,num): #the index should be passed as a 32 bit hex\n",
    "  \n",
    "    for i in range(0,num): \n",
    "        child=TreeNode(parent.pvt_key)\n",
    "        input_bytearray=str.encode(parent.pvt_key)+str.encode(parent.chain_code)+str.encode(hex(int(index, 16)+i)[2:])\n",
    "        child_info=hmac.new(input_bytearray,None,hashlib.sha512).hexdigest()\n",
    "        child.pvt_key=child_info[:64]\n",
    "        child.chain_code=child_info[64:]\n",
    "        pvt=int(child.pvt_key, 16)\n",
    "        child_pub_key=keys.get_public_key(pvt,curve.secp256k1)\n",
    "        pub_key= hex(child_pub_key.y)[2:4]+hex(child_pub_key.x)[2:] #followed the guide https://en.bitcoin.it/wiki/Technical_background_of_version_1_Bitcoin_addresses#How_to_create_Bitcoin_Address\n",
    "        child.pub_key=pub_key\n",
    "        parent.children.append(child)\n",
    "            "
   ]
  },
  {
   "cell_type": "code",
   "execution_count": 8,
   "metadata": {},
   "outputs": [],
   "source": [
    "\"\"\"in this section I create a children from the public key of the master\"\"\"\n",
    "\n",
    "def create_children(parent,index,num): #the index should be passed as a 32 bit hex\n",
    "  \n",
    "    for i in range(0,num): \n",
    "        child=TreeNode(parent.pvt_key)\n",
    "        input_bytearray=str.encode(parent.pub_key)+str.encode(parent.chain_code)+str.encode(hex(int(index, 16)+i)[2:])\n",
    "        child_info=hmac.new(input_bytearray,None,hashlib.sha512).hexdigest()\n",
    "        child.pvt_key=child_info[:64]\n",
    "        child.chain_code=child_info[64:]\n",
    "        pvt=int(child.pvt_key, 16)\n",
    "        child_pub_key=keys.get_public_key(pvt,curve.secp256k1)\n",
    "        pub_key= hex(child_pub_key.y)[2:4]+hex(child_pub_key.x)[2:] #followed the guide https://en.bitcoin.it/wiki/Technical_background_of_version_1_Bitcoin_addresses#How_to_create_Bitcoin_Address\n",
    "        child.pub_key=pub_key\n",
    "        parent.children.append(child)"
   ]
  },
  {
   "cell_type": "code",
   "execution_count": 9,
   "metadata": {},
   "outputs": [
    {
     "name": "stdout",
     "output_type": "stream",
     "text": [
      "Private Key 3b1396255700474b63cfc368ab6c4220e490d22237e831638530e0e6f4481fca\n",
      "Public Key 831ee5bbe20834154ffa0330ab94943aa4e7a63e3bbabf971bed7a2a4789de19c2\n",
      "Chain Code d21d1a78d9380d47e869db2bb601b80c4de7b148f0009c951912e11f0e6d5d83\n",
      "-------------------------------------------------------------------------\n",
      "Private Key 2b2b4af504fa65612748c90d154c0e24cf2184e356036588250513cd44a298dd\n",
      "Public Key a37286b22e5fa114206efa848b31f1b4003005f1c60a18c2de4293909c2fc73e52\n",
      "Chain Code 38737ea6afa3e71a8b7d9b00a3860331900ae4293c165162791dd575569998d7\n",
      "-------------------------------------------------------------------------\n",
      "Private Key 9ff2f619286b9711188458434e77da48b67c26751699e86d0a9f81d5ff384ead\n",
      "Public Key 11af8aab9f75e9a12c2cf30169cb17ed5d6c6b835661f4b5e1fc8b80c22b9afbdf\n",
      "Chain Code cfaf872c8404feb4bf440b3ae879eb930fd01cb238876b9c358a5221ba38bb89\n",
      "-------------------------------------------------------------------------\n"
     ]
    }
   ],
   "source": [
    "create_children(master_info,\"00000000\",2)\n",
    "create_hardened_children(master_info,\"80000000\",1)\n",
    "\n",
    "for i in master_info.children:\n",
    "        print(\"Private Key \" + i.pvt_key)\n",
    "        print(\"Public Key \" + i.pub_key)\n",
    "        print(\"Chain Code \" + i.chain_code)\n",
    "        print(\"-------------------------------------------------------------------------\")\n",
    "        "
   ]
  },
  {
   "cell_type": "code",
   "execution_count": 10,
   "metadata": {
    "scrolled": false
   },
   "outputs": [
    {
     "name": "stdout",
     "output_type": "stream",
     "text": [
      "Private Key 7f619d12cd3189a3774a4fe7394a7db3926f843b9dca94344b966095598853ea\n",
      "Public Key f6297ab1fe6ea5f51a4cffe5f6790d7d888ff30c6f33d33f800f953b17de9747fc\n",
      "Chain Code c726eadc19691444f4835b066f219dd5ccfc333374c308db3944cbd2512d86e7\n",
      "-------------------------------------------------------------------------\n",
      "Private Key ac8e60a185ffe3d3624c87b1b1fce776e036e2f9197b4d50647548893dadb1b4\n",
      "Public Key 9b84fd1ec73a54527354e57648c2056d1e15a568c1350dd90ef5b6b0871af7f271\n",
      "Chain Code 95c2b9654ac04029e604dcb1a5bdcb0f868df10ff5da9f5c2a627348d0677798\n",
      "-------------------------------------------------------------------------\n",
      "Private Key 11995120e7da1f7e12734f547c48f97973c189d280e7d256be022722f2b8ad6b\n",
      "Public Key 81f21c53cb30f2b674e8eeebcebbb7fdf93faa65392a178cadededad9b6564957b\n",
      "Chain Code 16770d6fd84b6481e6d11fe70707d19de2eeb3e8e9cf4c3baf903d9aededc9d6\n",
      "-------------------------------------------------------------------------\n",
      "Private Key 7de5048a8f960c222c818cb8b6faac5f44b213542b2a8392ca076459297b5f06\n",
      "Public Key 67a47aea8495403d9f237cffbb6b5803ce937f03fb05fb0b9265ae514af8f763d\n",
      "Chain Code 21ec0b5fc5e095e978c1698f9cf7a3413ad128c25234ff9f0d4761a3694ff028\n",
      "-------------------------------------------------------------------------\n",
      "Private Key 1fd3954ac0c00aa8dd78cbdc87968bfa5ae68eaf84d756ec829978f8b90ba5de\n",
      "Public Key 39d668b2ca23363cd2386928f82f0fb9a5a37fd178c944435d9bb0e0d2efc48fb1\n",
      "Chain Code 672928584a4730e9d67026f98c71f82d935abb8baa3354cc867d2b2f068139df\n",
      "-------------------------------------------------------------------------\n",
      "Private Key e31707f014aad0c809394c79cfefc86a39923e6c2d57a7ed99e28c5ea61e239f\n",
      "Public Key bc32c067bdd57c0d68f075552956b2100ff2454e5456ff2071c3b8dbbfdde9f1eb\n",
      "Chain Code 375e00b269ff911745f263ce4bea74fb30509482320691b96cf1fbe18ecbafa0\n",
      "-------------------------------------------------------------------------\n",
      "Private Key 7e7ac286b719e809d0cdee56cc5d3e55974512057040edeefac4d5e9be5daaa2\n",
      "Public Key 4d7a1689062e8fec087b513188115ffe9c6afce0acb0f5cdd30b2235cd33731887\n",
      "Chain Code d5d86de88c7e2d9d4daf55a7578c6543dc7d2bcdb2b4c2f02f664ddbc973f660\n",
      "-------------------------------------------------------------------------\n",
      "Private Key 5664412ddd76638da130faeff1e635ebdb6995693dfd3e4474559f6bda40b1ce\n",
      "Public Key 12628e1659834fef5213a0e4eb7a35e7bec6dc004ec263643651edda3b9802b59a\n",
      "Chain Code f4b4680df7cd8c937e31b9930b8aa937b684a2627cfba8fe2417c5517a3316e4\n",
      "-------------------------------------------------------------------------\n",
      "Private Key cce99911abdac3f893ab234c21a181abee35a2340959ebb0b122d1302758b3e9\n",
      "Public Key 9548a0be4e9f401cb9d5fdab9ccfc94a91c2e464f9d914e7bb66092685b1db2d6d\n",
      "Chain Code 679dfe37ceb0ff503a74998d8759c68f27e6c02b58e1fcb1abb57a02930da7a8\n",
      "-------------------------------------------------------------------------\n"
     ]
    }
   ],
   "source": [
    "\"\"\"Lets try to create some grandkids\"\"\"\n",
    "\n",
    "for i in master_info.children:\n",
    "    create_hardened_children(i,\"80000000\",1)\n",
    "    create_children(i,\"00000000\",2)\n",
    "    for j in i.children:\n",
    "        print(\"Private Key \" + j.pvt_key)\n",
    "        print(\"Public Key \" + j.pub_key)\n",
    "        print(\"Chain Code \" + j.chain_code)\n",
    "        print(\"-------------------------------------------------------------------------\")\n",
    "        \n",
    "\n",
    "\n"
   ]
  },
  {
   "cell_type": "code",
   "execution_count": null,
   "metadata": {},
   "outputs": [],
   "source": []
  }
 ],
 "metadata": {
  "kernelspec": {
   "display_name": "Python 3",
   "language": "python",
   "name": "python3"
  },
  "language_info": {
   "codemirror_mode": {
    "name": "ipython",
    "version": 3
   },
   "file_extension": ".py",
   "mimetype": "text/x-python",
   "name": "python",
   "nbconvert_exporter": "python",
   "pygments_lexer": "ipython3",
   "version": "3.8.5"
  }
 },
 "nbformat": 4,
 "nbformat_minor": 4
}
