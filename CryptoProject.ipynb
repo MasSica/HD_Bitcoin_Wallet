{
 "cells": [
  {
   "cell_type": "code",
   "execution_count": 1,
   "metadata": {},
   "outputs": [],
   "source": [
    "from mnemonic import Mnemonic\n",
    "from fastecdsa import keys, curve\n",
    "import binascii\n",
    "import hashlib\n",
    "import hmac\n"
   ]
  },
  {
   "cell_type": "code",
   "execution_count": 2,
   "metadata": {},
   "outputs": [],
   "source": [
    "\"\"\"here i create a class to store data in a tree like structure\"\"\"\n",
    "\n",
    "class TreeNode():\n",
    "    \n",
    "    def __init__(self,parent):\n",
    "        self.parent=parent\n",
    "        self.pvt_key=None\n",
    "        self.pub_key=None\n",
    "        self.chain_code =None\n",
    "        self.children = []\n",
    "    "
   ]
  },
  {
   "cell_type": "code",
   "execution_count": 3,
   "metadata": {},
   "outputs": [],
   "source": [
    "\"\"\"Here I define the function needed to generate the seed which is going to be used later \"\"\"\n",
    "\n",
    "def generate_seed(language,passphrase,strenght):\n",
    "   mnemo = Mnemonic(language)\n",
    "   words = mnemo.generate(strength=strenght)\n",
    "   seed = mnemo.to_seed(words, passphrase=passphrase)\n",
    "   print(\"Entropy=\" + str( binascii.hexlify(mnemo.to_entropy(words)))) #prints the entropy in hex\n",
    "   print(\"Words= \" + words)   \n",
    "   print(\"Seed = \"+str(binascii.hexlify(seed))) #prints the seed in hex \n",
    "   return seed\n",
    "   \n"
   ]
  },
  {
   "cell_type": "code",
   "execution_count": 4,
   "metadata": {},
   "outputs": [
    {
     "name": "stdout",
     "output_type": "stream",
     "text": [
      "Entropy=b'400dfb7fcac0ec5b4a5794e931d25690'\n",
      "Words= divorce hurt that night attract color citizen verb truck model noble cage\n",
      "Seed = b'57cfb012f7a62fc5ea951478e90581ffa083c4fe968cbb861fa0738d531dd9aebb20746ee7f67f5e9b116ae695a72064ca5ebb680894db29452100ff43042d3f'\n"
     ]
    }
   ],
   "source": [
    "seed=generate_seed(\"english\",\"test\",128)"
   ]
  },
  {
   "cell_type": "code",
   "execution_count": 5,
   "metadata": {},
   "outputs": [],
   "source": [
    "def print_info(dictio):\n",
    "    for keys,values in dictio.items():\n",
    "        print(keys.upper())\n",
    "        print(values)\n",
    "   "
   ]
  },
  {
   "cell_type": "code",
   "execution_count": 6,
   "metadata": {},
   "outputs": [],
   "source": [
    "\"\"\"In this section I derive from the seed the master private key and the master chain code, the private key is the one used to have control over your bank account represented by the public key. The bitcoin address is generated/corresponds from the public key\"\"\"\n",
    "\"\"\"def get_master_info(seed):\n",
    "    to_return={}\n",
    "    master= hmac.new(seed,None,hashlib.sha512).hexdigest()\n",
    "    master_pvt_key=master[:64]\n",
    "    master_chain_code=master[64:]\n",
    "    pvt=int(master_pvt_key, 16)\n",
    "    master_pub_key = keys.get_public_key(pvt,curve.secp256k1)\n",
    "    to_return[\"master_pvt_key\"] = master_pvt_key\n",
    "    to_return[\"master_pub_key\"] = master_pub_key\n",
    "    to_return[\"master_chain_code\"] = master_chain_code\n",
    "    return to_return\"\"\"\n",
    "\n",
    "def get_master_info(seed):\n",
    "    master=TreeNode(None)\n",
    "    master_hmac= hmac.new(seed,None,hashlib.sha512).hexdigest()\n",
    "    master_pvt_key=master_hmac[:64]\n",
    "    master.pvt_key=master_pvt_key\n",
    "    master_chain_code=master_hmac[64:]\n",
    "    master.chain_code=master_chain_code\n",
    "    pvt=int(master_pvt_key, 16)\n",
    "    master_pub_key = keys.get_public_key(pvt,curve.secp256k1)\n",
    "    pub_key= hex(master_pub_key.y)[2:4]+hex(master_pub_key.x)[2:] #followed the guide https://en.bitcoin.it/wiki/Technical_background_of_version_1_Bitcoin_addresses#How_to_create_Bitcoin_Address\n",
    "    master.pub_key=pub_key\n",
    "    return master\n"
   ]
  },
  {
   "cell_type": "code",
   "execution_count": 7,
   "metadata": {},
   "outputs": [
    {
     "data": {
      "text/plain": [
       "'fcb4d1491a2d19bbec428f85b9d1dbb94ae305cdd5ca200cb9af217cebcee408cd'"
      ]
     },
     "execution_count": 7,
     "metadata": {},
     "output_type": "execute_result"
    }
   ],
   "source": [
    "master_info=get_master_info(seed)\n",
    "master_info.pub_key\n"
   ]
  },
  {
   "cell_type": "code",
   "execution_count": 8,
   "metadata": {},
   "outputs": [],
   "source": [
    "\"\"\"In this section I define a function to derive child addresses using hardened derivation\"\"\"\n",
    "\n",
    "def create_hardened_children(parent,index,num): #the index should be passed as a 32 bit hex\n",
    "  \n",
    "    for i in range(0,num): \n",
    "        child=TreeNode(parent.pvt_key)\n",
    "        input_bytearray=str.encode(parent.pvt_key)+str.encode(parent.chain_code)+str.encode(hex(int(index, 16)+i)[2:])\n",
    "        child_info=hmac.new(input_bytearray,None,hashlib.sha512).hexdigest()\n",
    "        child.pvt_key=child_info[:64]\n",
    "        child.chain_code=child_info[64:]\n",
    "        pvt=int(child.pvt_key, 16)\n",
    "        child_pub_key=keys.get_public_key(pvt,curve.secp256k1)\n",
    "        pub_key= hex(child_pub_key.y)[2:4]+hex(child_pub_key.x)[2:] #followed the guide https://en.bitcoin.it/wiki/Technical_background_of_version_1_Bitcoin_addresses#How_to_create_Bitcoin_Address\n",
    "        child.pub_key=pub_key\n",
    "        parent.children.append(child)\n",
    "            "
   ]
  },
  {
   "cell_type": "code",
   "execution_count": 9,
   "metadata": {},
   "outputs": [],
   "source": [
    "\"\"\"in this section I create a children from the public key of the master\"\"\"\n",
    "\n",
    "def create_children(parent,index,num): #the index should be passed as a 32 bit hex\n",
    "  \n",
    "    for i in range(0,num): \n",
    "        child=TreeNode(parent.pvt_key)\n",
    "        input_bytearray=str.encode(parent.pub_key)+str.encode(parent.chain_code)+str.encode(hex(int(index, 16)+i)[2:])\n",
    "        child_info=hmac.new(input_bytearray,None,hashlib.sha512).hexdigest()\n",
    "        child.pvt_key=child_info[:64]\n",
    "        child.chain_code=child_info[64:]\n",
    "        pvt=int(child.pvt_key, 16)\n",
    "        child_pub_key=keys.get_public_key(pvt,curve.secp256k1)\n",
    "        pub_key= hex(child_pub_key.y)[2:4]+hex(child_pub_key.x)[2:] #followed the guide https://en.bitcoin.it/wiki/Technical_background_of_version_1_Bitcoin_addresses#How_to_create_Bitcoin_Address\n",
    "        child.pub_key=pub_key\n",
    "        parent.children.append(child)"
   ]
  },
  {
   "cell_type": "code",
   "execution_count": 10,
   "metadata": {},
   "outputs": [
    {
     "name": "stdout",
     "output_type": "stream",
     "text": [
      "Private Key 667656b9c7b9a02efac454c1a13a90029616eb868674a960af2a29a50e893031\n",
      "Public Key ff36f2fc726dd3d3afcbdd7b0dc1081c10753adaacd2cee9bd94f3b8b484c34017\n",
      "Chain Code 4acb6f31d1977f55524186cf17af8660a3fd939d4934905126be4f636db94c9d\n",
      "-------------------------------------------------------------------------\n",
      "Private Key 5c483fca4e4b9f567f3dcb59228c71b3e756c471f662264c8960045e5a0fac21\n",
      "Public Key 118196ece136e37678573aa3b9d79d03b03eb79362ce31ca153065c27cf1f85cdf\n",
      "Chain Code 5c21069a3706cbab61768e677b3e62c8f879b1b7d10a42f75561d13a7227f3e6\n",
      "-------------------------------------------------------------------------\n",
      "Private Key d415e213bc9d2baff674edf283af38f2930a138411ca10e79d4a61590d5f2cf6\n",
      "Public Key 22f32071aeef394eb7aa89d9b3f3144417b2b7f5ebe3457ccace209f5920cceaa\n",
      "Chain Code a7ec17ac27f7ce91d3e9c1375cca4c99aef01c025a34e41f1e9ce92d7a386731\n",
      "-------------------------------------------------------------------------\n"
     ]
    }
   ],
   "source": [
    "create_children(master_info,\"00000000\",2)\n",
    "create_hardened_children(master_info,\"80000000\",1)\n",
    "\n",
    "for i in master_info.children:\n",
    "        print(\"Private Key \" + i.pvt_key)\n",
    "        print(\"Public Key \" + i.pub_key)\n",
    "        print(\"Chain Code \" + i.chain_code)\n",
    "        print(\"-------------------------------------------------------------------------\")\n",
    "        "
   ]
  },
  {
   "cell_type": "code",
   "execution_count": 11,
   "metadata": {
    "scrolled": false
   },
   "outputs": [
    {
     "name": "stdout",
     "output_type": "stream",
     "text": [
      "Private Key 9af914a15b146508ac9d822dc22ef30754f2e333c2b380951fa1339b0f7f762c\n",
      "Public Key 121065d3fdacb959a6110283fbdf023357058b6ca207fd5b10e8c4fad2b97e762e\n",
      "Chain Code 9a453f0e05c57e646a580c027797da16ab5d3796bc188fa81b72add6e19f1e82\n",
      "-------------------------------------------------------------------------\n",
      "Private Key 829be505ae10627d5122132a6645c15b74655b853761e7f339bb0d74d7d0f589\n",
      "Public Key 8dd4ce5eec96abad635010406e6af72ee844f6a6288ba9ece69caa88101c60f06d\n",
      "Chain Code ad3486848709d22aafb0a1878e7b1d7b6ffae9035d420c73e10fc03198227821\n",
      "-------------------------------------------------------------------------\n",
      "Private Key 7a543e1e95848f7301f1f20e82658c169dcb1006d98d2b826ccc527d30c0002b\n",
      "Public Key 7a35316e79e198db1dd6feaad1ef8c4fe55354f5628ecf888c41d3da9c740b0517\n",
      "Chain Code b435f2371a8561976e1fc50b4be4207c86b8f3b8427509b37fd3cb70e821b19d\n",
      "-------------------------------------------------------------------------\n",
      "Private Key a26b2849f1ded30e42c53c3d1e0d33662c11d179f11942e16bc8cc720dfa5c10\n",
      "Public Key b579e4890abb5698314230cff7f7fd15b9e7bb98f214e0706c61845d3ed4328e16\n",
      "Chain Code f59ed5422da4a4fdc2ee8008e30a8914d264e0e97557c000d0acfa72337ae7f7\n",
      "-------------------------------------------------------------------------\n",
      "Private Key 896aee797d8f33dc5b1a16c28bad00ab0ab806789a6e07c6e11597f2265c5790\n",
      "Public Key 2f24d40c41d6f3fed9ca6b2fbea55d5afdadc0edb5e63cfd68d677cdc14c801b0f\n",
      "Chain Code d6d2da0834fae02b92c91b2ed4dea7140186f35895087301d64d9187b57e7c87\n",
      "-------------------------------------------------------------------------\n",
      "Private Key 56969e1c3485e39ab79db591bc79b2a797918991125f8025260a479c22dd194a\n",
      "Public Key 23aa133e33b580b7b7e42bda9f280e9b94aa6e684198f040760af6a5a82916324f\n",
      "Chain Code 6688ec34e220e9e6ff4a36cda50662cb96be5936e2597684c3306d53b3d18196\n",
      "-------------------------------------------------------------------------\n",
      "Private Key 1ed618f757373be396d0a8680ddbdd704ed6e1cb62ef89a34fead06a68d78f8e\n",
      "Public Key 4a96e4c11be485535ce05bb82eea5fa27d9662f0d7ff714733d1a7a43fb67aebeb\n",
      "Chain Code 9ced84f2c4e503120456fd1d2e8aa63a288feafce4933e052f872cf2cc4fc7be\n",
      "-------------------------------------------------------------------------\n",
      "Private Key e272815bf215d2ffc03b44762ef3891e7152a10a11922c94cee9b0a7acdd483e\n",
      "Public Key 6b73b7d98852f88e115183f7d604103fe4e20adba5cc15875641641a1b39802a4e\n",
      "Chain Code 79101770292d5400a73c3e6cf3fa1bfb6dedff51ec36c19d9b03f129cde7a5e6\n",
      "-------------------------------------------------------------------------\n",
      "Private Key 5580a1f0a3ddcf1b4353991bec398ee141c1ed811eac75c0fc753a3a71637001\n",
      "Public Key a8c570ba68b94b8558375cebb040538ea3de1170c42d7342bddf0f5a4f4b27a04b\n",
      "Chain Code 7f62d3008e7b8074fb30afe9fd51d2ad0adbb7d7974a72fef8ee5975c13a2a75\n",
      "-------------------------------------------------------------------------\n"
     ]
    }
   ],
   "source": [
    "\"\"\"Lets try to create some grandkids\"\"\"\n",
    "\n",
    "for i in master_info.children:\n",
    "    create_hardened_children(i,\"80000000\",1)\n",
    "    create_children(i,\"00000000\",2)\n",
    "    for j in i.children:\n",
    "        print(\"Private Key \" + j.pvt_key)\n",
    "        print(\"Public Key \" + j.pub_key)\n",
    "        print(\"Chain Code \" + j.chain_code)\n",
    "        print(\"-------------------------------------------------------------------------\")\n",
    "        \n",
    "\n",
    "\n"
   ]
  },
  {
   "cell_type": "code",
   "execution_count": 12,
   "metadata": {},
   "outputs": [
    {
     "ename": "SyntaxError",
     "evalue": "invalid syntax (<ipython-input-12-44483769ee52>, line 3)",
     "output_type": "error",
     "traceback": [
      "\u001b[0;36m  File \u001b[0;32m\"<ipython-input-12-44483769ee52>\"\u001b[0;36m, line \u001b[0;32m3\u001b[0m\n\u001b[0;31m    if\u001b[0m\n\u001b[0m       ^\u001b[0m\n\u001b[0;31mSyntaxError\u001b[0m\u001b[0;31m:\u001b[0m invalid syntax\n"
     ]
    }
   ],
   "source": [
    "def retrieve_hardened_children(parent):\n",
    "    for i in parent.children:\n",
    "        if "
   ]
  },
  {
   "cell_type": "code",
   "execution_count": null,
   "metadata": {},
   "outputs": [],
   "source": []
  }
 ],
 "metadata": {
  "kernelspec": {
   "display_name": "Python 3",
   "language": "python",
   "name": "python3"
  },
  "language_info": {
   "codemirror_mode": {
    "name": "ipython",
    "version": 3
   },
   "file_extension": ".py",
   "mimetype": "text/x-python",
   "name": "python",
   "nbconvert_exporter": "python",
   "pygments_lexer": "ipython3",
   "version": "3.8.3"
  }
 },
 "nbformat": 4,
 "nbformat_minor": 4
}
