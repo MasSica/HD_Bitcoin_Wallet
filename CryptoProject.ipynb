{
 "cells": [
  {
   "cell_type": "code",
   "execution_count": 1,
   "metadata": {},
   "outputs": [],
   "source": [
    "from mnemonic import Mnemonic\n",
    "from fastecdsa import keys, curve\n",
    "import binascii\n",
    "import hashlib\n",
    "import hmac\n",
    "\n"
   ]
  },
  {
   "cell_type": "code",
   "execution_count": 2,
   "metadata": {},
   "outputs": [],
   "source": [
    "\"\"\"here i create a class to store data in a tree like structure\"\"\"\n",
    "\n",
    "class TreeNode():\n",
    "    \n",
    "    def __init__(self,parent):\n",
    "        self.parent=parent\n",
    "        self.pvt_key=None\n",
    "        self.pub_key=None\n",
    "        self.chain_code =None\n",
    "        self.children = []\n",
    "    "
   ]
  },
  {
   "cell_type": "code",
   "execution_count": 3,
   "metadata": {},
   "outputs": [],
   "source": [
    "\"\"\"Here I define the function needed to generate the seed which is going to be used later \"\"\"\n",
    "\n",
    "def generate_seed(language,passphrase,strenght):\n",
    "   mnemo = Mnemonic(language)\n",
    "   words = mnemo.generate(strength=strenght)\n",
    "   seed = mnemo.to_seed(words, passphrase=passphrase)\n",
    "   print(\"Entropy=\" + str( binascii.hexlify(mnemo.to_entropy(words)))) #prints the entropy in hex\n",
    "   print(\"Words= \" + words)   \n",
    "   print(\"Seed = \"+str(binascii.hexlify(seed))) #prints the seed in hex \n",
    "   return seed\n",
    "   \n"
   ]
  },
  {
   "cell_type": "code",
   "execution_count": 5,
   "metadata": {},
   "outputs": [
    {
     "name": "stdout",
     "output_type": "stream",
     "text": [
      "Entropy=b'cc00597a57b995cb65fd0b6631a3971a'\n",
      "Words= slot actress future quarter off toss obey pause great minimum total cupboard\n",
      "Seed = b'614f436abdb17cb30eaf9e195711ef9dee3599e31d8867979a4b96fd995420db6c4d39d4ea45fb6ee9b5affd2bff2674902c0aa9f215b97457166de07943d428'\n"
     ]
    }
   ],
   "source": [
    "seed=generate_seed(\"english\",\"test\",128)"
   ]
  },
  {
   "cell_type": "code",
   "execution_count": 7,
   "metadata": {},
   "outputs": [],
   "source": [
    "\"\"\"In this section I derive from the seed the master private key and the master chain code, the private key is the one used to have control over your bank account represented by the public key. The bitcoin address is generated/corresponds from the public key\"\"\"\n",
    "\"\"\"def get_master_info(seed):\n",
    "    to_return={}\n",
    "    master= hmac.new(seed,None,hashlib.sha512).hexdigest()\n",
    "    master_pvt_key=master[:64]\n",
    "    master_chain_code=master[64:]\n",
    "    pvt=int(master_pvt_key, 16)\n",
    "    master_pub_key = keys.get_public_key(pvt,curve.secp256k1)\n",
    "    to_return[\"master_pvt_key\"] = master_pvt_key\n",
    "    to_return[\"master_pub_key\"] = master_pub_key\n",
    "    to_return[\"master_chain_code\"] = master_chain_code\n",
    "    return to_return\"\"\"\n",
    "\n",
    "def get_master_info(seed):\n",
    "    master=TreeNode(None)\n",
    "    master_hmac= hmac.new(seed,None,hashlib.sha512).hexdigest()\n",
    "    master_pvt_key=master_hmac[:64]\n",
    "    master.pvt_key=master_pvt_key\n",
    "    master_chain_code=master_hmac[64:]\n",
    "    master.chain_code=master_chain_code\n",
    "    pvt=int(master_pvt_key, 16)\n",
    "    master_pub_key = keys.get_public_key(pvt,curve.secp256k1)\n",
    "    pub_key= hex(master_pub_key.y)[2:4]+hex(master_pub_key.x)[2:] #followed the guide https://en.bitcoin.it/wiki/Technical_background_of_version_1_Bitcoin_addresses#How_to_create_Bitcoin_Address\n",
    "    master.pub_key=pub_key\n",
    "    return master\n"
   ]
  },
  {
   "cell_type": "code",
   "execution_count": 8,
   "metadata": {},
   "outputs": [
    {
     "data": {
      "text/plain": [
       "'5f23703d704c907fde4e4fad47bc966e04d466d3d477884b50d987b1a44af167d7'"
      ]
     },
     "execution_count": 8,
     "metadata": {},
     "output_type": "execute_result"
    }
   ],
   "source": [
    "master_info=get_master_info(seed)\n",
    "master_info.pub_key\n"
   ]
  },
  {
   "cell_type": "code",
   "execution_count": 9,
   "metadata": {},
   "outputs": [],
   "source": [
    "\"\"\"In this section I define a function to derive child addresses using hardened derivation\"\"\"\n",
    "\n",
    "def create_hardened_children(parent,index,num): #the index should be passed as a 32 bit hex\n",
    "  \n",
    "    for i in range(0,num): \n",
    "        child=TreeNode(parent.pvt_key)\n",
    "        input_bytearray=str.encode(parent.pvt_key)+str.encode(parent.chain_code)+str.encode(hex(int(index, 16)+i)[2:])\n",
    "        child_info=hmac.new(input_bytearray,None,hashlib.sha512).hexdigest()\n",
    "        child.pvt_key=child_info[:64]\n",
    "        child.chain_code=child_info[64:]\n",
    "        pvt=int(child.pvt_key, 16)\n",
    "        child_pub_key=keys.get_public_key(pvt,curve.secp256k1)\n",
    "        pub_key= hex(child_pub_key.y)[2:4]+hex(child_pub_key.x)[2:] #followed the guide https://en.bitcoin.it/wiki/Technical_background_of_version_1_Bitcoin_addresses#How_to_create_Bitcoin_Address\n",
    "        child.pub_key=pub_key\n",
    "        parent.children.append(child)\n",
    "            "
   ]
  },
  {
   "cell_type": "code",
   "execution_count": 10,
   "metadata": {},
   "outputs": [],
   "source": [
    "\"\"\"in this section I create a children from the public key of the master\"\"\"\n",
    "\n",
    "def create_children(parent,index,num): #the index should be passed as a 32 bit hex\n",
    "  \n",
    "    for i in range(0,num): \n",
    "        child=TreeNode(parent.pvt_key)\n",
    "        input_bytearray=str.encode(parent.pub_key)+str.encode(parent.chain_code)+str.encode(hex(int(index, 16)+i)[2:])\n",
    "        child_info=hmac.new(input_bytearray,None,hashlib.sha512).hexdigest()\n",
    "        child.pvt_key=child_info[:64]\n",
    "        child.chain_code=child_info[64:]\n",
    "        pvt=int(child.pvt_key, 16)\n",
    "        child_pub_key=keys.get_public_key(pvt,curve.secp256k1)\n",
    "        pub_key= hex(child_pub_key.y)[2:4]+hex(child_pub_key.x)[2:] #followed the guide https://en.bitcoin.it/wiki/Technical_background_of_version_1_Bitcoin_addresses#How_to_create_Bitcoin_Address\n",
    "        child.pub_key=pub_key\n",
    "        parent.children.append(child)"
   ]
  },
  {
   "cell_type": "code",
   "execution_count": 11,
   "metadata": {},
   "outputs": [
    {
     "name": "stdout",
     "output_type": "stream",
     "text": [
      "Private Key 1e4f2fbf7fefa5c5c88816e6d23f811bcd382b70e16f73571fc2951d536dd1a4\n",
      "Public Key 608836f152bc6ab0867757cc7594157d2188bab3beea506d4264d7a2424c51bf09\n",
      "Chain Code 50c8147bbe16d175008ff1aa7827e72d349877c28b193fe14be095c0ec0f710f\n",
      "-------------------------------------------------------------------------\n",
      "Private Key 16bbae1d2e4ff333d334b502de78fa108921814fbc920a40cd8e7933ea93c484\n",
      "Public Key 7abcf5f552c75dbcc7e64132cb39fee19a6b4b734a7e26522fd78c62c6248494ee\n",
      "Chain Code 912d78769ee55b93cb279c16f768aedb4a1df6fb8318d0e68f7bb026cc55047f\n",
      "-------------------------------------------------------------------------\n",
      "Private Key b60d828ef9102e0286db1b979e787149d068c18cc25fd581170d20c61d5ebf3e\n",
      "Public Key 921e635704a31cfe9cd4e047e47e0116b753049ff6b27185df698cbb5d70ceb05d\n",
      "Chain Code 3d3a6ea0bd1ccba4e72c3b246e2baf4a7f6775ac8b3408a51b0d1751af03f66c\n",
      "-------------------------------------------------------------------------\n"
     ]
    }
   ],
   "source": [
    "create_children(master_info,\"00000000\",2)\n",
    "create_hardened_children(master_info,\"80000000\",1)\n",
    "\n",
    "for i in master_info.children:\n",
    "        print(\"Private Key \" + i.pvt_key)\n",
    "        print(\"Public Key \" + i.pub_key)\n",
    "        print(\"Chain Code \" + i.chain_code)\n",
    "        print(\"-------------------------------------------------------------------------\")\n",
    "        "
   ]
  },
  {
   "cell_type": "code",
   "execution_count": 12,
   "metadata": {
    "scrolled": false
   },
   "outputs": [
    {
     "name": "stdout",
     "output_type": "stream",
     "text": [
      "Private Key e98789c8fb900856a05763160be51a8774716afffee8d1794399a17466dcdb3b\n",
      "Public Key d7f9d2e639746011c9d73233f8d5fcf374aba2c043d57d66f71ed885d987c3166f\n",
      "Chain Code 4b9ad712787865c8bfad797596cff9f92bb40bbc2163925f29e27e428d6d78c8\n",
      "-------------------------------------------------------------------------\n",
      "Private Key 050a1428351b3f668249df7d905a24d3960f146e8a7ff993f3c35f1e48030fab\n",
      "Public Key 49f40d92f6d858d9aa7eb2e4b48778593c9bc337d8272cb2ee6bb27834f02b537c\n",
      "Chain Code a66aa3f7ebcae49284ed7cc111908473a6464e3980fe94e88a1ebb310ee87e9b\n",
      "-------------------------------------------------------------------------\n",
      "Private Key 6bed8f1e3f82be147674233a83645d9be26d534a653280598667529fb194fdb6\n",
      "Public Key c9ab4d665008013c013d51594787d669197a35f9fd1fe21b424f5aafdce9b15058\n",
      "Chain Code 0ce7996e6dafbb93173030f8adcb2ddbf9a889caeed1b847e22532414d2b1ac7\n",
      "-------------------------------------------------------------------------\n",
      "Private Key 87ed108efd4aa36c9667a8da8d06b7020bd28de5c67429aa930b323953747e7b\n",
      "Public Key b2cfe8eec675ec97de65f9b68cd29d7b656726195f110b771308c615e07fa4340b\n",
      "Chain Code 087da2f9990bb82518d072eb1b3bc14152543e50834e53484d66df3aea6707b3\n",
      "-------------------------------------------------------------------------\n",
      "Private Key 71bb80416f9654a04d614d33e32e5b6fed2619ec07871b6f9c20426d3700054e\n",
      "Public Key 7177c548048bf293bf9b0f3ef505584de5a096891a7b4d244c2a3d42204bbb4489\n",
      "Chain Code bad01b3e04165eb0d6c8720ce4b95de62c2830a4acbe1c20c00f54eaf0460877\n",
      "-------------------------------------------------------------------------\n",
      "Private Key 293efcc45e322682951f92a0b38a3ca1e2f36bc3a5314a44d98a2c7625673396\n",
      "Public Key 3cad65faa1642f2bee03179b7b2de06773c6f3fc27b4bb12e40190b9d81628832f\n",
      "Chain Code 04ba01abd91a55c5285151f4f89407e112be0cb88a183f0f3b695f7a9c46a048\n",
      "-------------------------------------------------------------------------\n",
      "Private Key 4113c79dc4d445709c6c021f361df29962a632ed3d1688c57b0e07871e930c63\n",
      "Public Key a668849d57dc859fe84156333565541bb6f9212590e2d44f3f38e7f03883f669bd\n",
      "Chain Code 1c33486a7cfadfafa3bc2aa07e31126ba56d5ae15acf3901cb876d8c67772c8c\n",
      "-------------------------------------------------------------------------\n",
      "Private Key 89c2a916c37476076d446ffaea547b5a355deeb64b2adc30ed871c4a3f852203\n",
      "Public Key 7dc145864f7b5b941ad1b5186a37bd89d9147a957f1aabc2fd33d6383ea5c76119\n",
      "Chain Code f2443f82c735752d739fc20c31e2047ff1a6c6c39f6bb8fb6942f45b7f9d3342\n",
      "-------------------------------------------------------------------------\n",
      "Private Key 0421594395dbdf67c91f23d0d86a9a7aee4de6d59899eaf9b1cebcc9f241a2b5\n",
      "Public Key beaa804da0030fa50114ee27ad13db99f8520601418c81885c5bba549f24a191d6\n",
      "Chain Code b0e039ce44156e79ab87c780b3513abd3adb5dce8034f32326f3bd44af19a624\n",
      "-------------------------------------------------------------------------\n"
     ]
    }
   ],
   "source": [
    "\"\"\"Lets try to create some grandkids\"\"\"\n",
    "\n",
    "for i in master_info.children:\n",
    "    create_hardened_children(i,\"80000000\",1)\n",
    "    create_children(i,\"00000000\",2)\n",
    "    for j in i.children:\n",
    "        print(\"Private Key \" + j.pvt_key)\n",
    "        print(\"Public Key \" + j.pub_key)\n",
    "        print(\"Chain Code \" + j.chain_code)\n",
    "        print(\"-------------------------------------------------------------------------\")\n",
    "        \n",
    "\n",
    "\n"
   ]
  },
  {
   "cell_type": "code",
   "execution_count": null,
   "metadata": {},
   "outputs": [],
   "source": []
  }
 ],
 "metadata": {
  "kernelspec": {
   "display_name": "Python 3",
   "language": "python",
   "name": "python3"
  },
  "language_info": {
   "codemirror_mode": {
    "name": "ipython",
    "version": 3
   },
   "file_extension": ".py",
   "mimetype": "text/x-python",
   "name": "python",
   "nbconvert_exporter": "python",
   "pygments_lexer": "ipython3",
   "version": "3.8.5"
  }
 },
 "nbformat": 4,
 "nbformat_minor": 4
}
