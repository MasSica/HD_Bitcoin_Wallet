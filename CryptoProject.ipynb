{
 "cells": [
  {
   "cell_type": "markdown",
   "metadata": {},
   "source": [
    "# HD BITCOIN WALLET"
   ]
  },
  {
   "cell_type": "markdown",
   "metadata": {},
   "source": [
    "This project aims to implement and Hierarchical Deterministic(HD) wallet using the bitcoin standards BIP-32 \n",
    "and BIP-39 by following the guidelines from the book Mastering Bitcoin. An HD wallet allows to derive many keys \n",
    "from a single seed stored in a tree structure. With respect to non deterministic wallets, where keys are generated \n",
    "at random and have no connection with one another, the HD wallet allows for simpler managment and doesn't require\n",
    "to keep copies of all the keys since they can all be derived from the seed. Furthermore HD wallets allow to derive \n",
    "public keys without the need to access to the associated private keys which guarantees additional security in \n",
    "insecure scenarios.\n",
    "\n",
    "![pic](CryptoProject/pic.png)"
   ]
  },
  {
   "cell_type": "code",
   "execution_count": 1,
   "metadata": {},
   "outputs": [],
   "source": [
    "\"\"\"Now we import all the required libraries\"\"\"\n",
    "\n",
    "from mnemonic import Mnemonic\n",
    "from fastecdsa import keys, curve\n",
    "import binascii\n",
    "import hashlib\n",
    "import hmac\n",
    "\n"
   ]
  },
  {
   "cell_type": "code",
   "execution_count": 2,
   "metadata": {},
   "outputs": [],
   "source": [
    "\"\"\"here i create a class to store data in a tree like structure, every node has a parent, a private key,\n",
    "a chain code and a list of children\"\"\"\n",
    "\n",
    "class TreeNode():\n",
    "    \n",
    "    def __init__(self,parent,pvt_key,pub_key,chain_code): #every node has a parent, the master will have None as input\n",
    "        self.parent=parent\n",
    "        self.pvt_key=pvt_key \n",
    "        self.pub_key=pub_key\n",
    "        self.chain_code =chain_code\n",
    "        self.children = []\n",
    "    "
   ]
  },
  {
   "cell_type": "markdown",
   "metadata": {},
   "source": [
    "Now we need to follow the seed generation procedure as described by BIP-39. The whole process is performed in a few commands thanks to the Mnemonic library.The concept is of generating a random entropy which is then mapped to some words (mnemonic words), which can be used to generate the actual seed.The idea of using mnemonic words comes from the fact that they are much simpler to remember than the seed itself and can be used to unambigously retrive all of the keys in the wallet, allowing for a backup in case of loss or destruction. The whole procedure is explained in the following images\n",
    "![pic](CryptoProject/pic2.png)",
    "![pic](CryptoProject/pic3.png)"
   ]
  },
  {
   "cell_type": "code",
   "execution_count": 3,
   "metadata": {},
   "outputs": [],
   "source": [
    "\"\"\"Here I define the function needed to generate the seed which is going to be used later \"\"\"\n",
    "\n",
    "def generate_seed(language,passphrase,strenght): #strenght refers to the lenght in bits of the entropy to generate \n",
    "                                                 #passphrase is an additional value used to append to the salt for PBKDF2\n",
    "    \n",
    "   mnemo = Mnemonic(language)\n",
    "\n",
    "   words = mnemo.generate(strength=strenght) #this command performs steps 1 to 5 and saves the words in a vavariable\n",
    "    \n",
    "   seed = mnemo.to_seed(words, passphrase=passphrase)#here we retrieve the seed from the words (step 7 to 9)\n",
    "\n",
    "   print(\"Entropy=\" + str( binascii.hexlify(mnemo.to_entropy(words)))) #prints the entropy in hex\n",
    "    \n",
    "   print(\"Words= \" + words)   \n",
    "\n",
    "   print(\"Seed = \"+str(binascii.hexlify(seed))) #prints the seed in hex \n",
    "    \n",
    "   return seed \n",
    "   \n"
   ]
  },
  {
   "cell_type": "code",
   "execution_count": 4,
   "metadata": {},
   "outputs": [
    {
     "name": "stdout",
     "output_type": "stream",
     "text": [
      "Entropy=b'd88fc65726462cab06abe1b8e44cb559'\n",
      "Words= sudden lawsuit noise erode glare few boy label rib carbon coil rebuild\n",
      "Seed = b'cdbd05675b0d60626c418bb56e8d8a9c972428973dc86dbc921f5f8ff1304e1f52853901e3d0012a8826ae019b5b41faf121c52c73b70a1b269db27f0f84be62'\n"
     ]
    }
   ],
   "source": [
    "#Here we simply test our function and check the values generated \n",
    "seed=generate_seed(\"english\",\"test\",128)"
   ]
  },
  {
   "cell_type": "markdown",
   "metadata": {},
   "source": [
    "Now that we have the seed it's time to generate the master. We make use of HMAC-SHA512 in order to have a fixed lenght output and to protect the seed from some possible attacks(to this end the hash is one way).It is worth noticing that the public key is then generated starting from the private key using ellipric curve theory. As the theory suggests, the public key is a pair of coordinates x and y, so to obtain the actual public key I take the first two bytes of the y coordinate and combine them with all the ones from the x axis. The following picture explains the process:\n",
    "![pic](CryptoProject/pic4.png)"
   ]
  },
  {
   "cell_type": "code",
   "execution_count": 5,
   "metadata": {},
   "outputs": [],
   "source": [
    "\"\"\"In this section I derive from the seed the master private key and the master chain code, \n",
    "the private key is the one used to have control over your bank account represented by the public key. \n",
    "The bitcoin address is generated/corresponds from/to the public key\"\"\"\n",
    "\n",
    "def get_master_info(seed):\n",
    "    \n",
    "    master_hmac= hmac.new(seed,None,hashlib.sha512).hexdigest() #here we perform HMAC-SHA512 on the root seed\n",
    "    \n",
    "    master_pvt_key=master_hmac[:64] #we pick the first 256 bits (256/4=64 since we are working in hex) \n",
    "    \n",
    "    master_chain_code=master_hmac[64:] #we extract the chain code using a similar logic \n",
    "    \n",
    "    #Now we need to derive the public key for our master and I have used fastecdsa for a quick result\n",
    "    \n",
    "    pvt=int(master_pvt_key, 16) #some conversion for compliance with the function \n",
    "    \n",
    "    master_pub_key = keys.get_public_key(pvt,curve.secp256k1) # we generate the public key using the secp256k1 elliptic curve \n",
    "    \n",
    "    pub_key= hex(master_pub_key.y)[2:4]+hex(master_pub_key.x)[2:] #for the serialization of the public key i used the hints at: https://en.bitcoin.it/wiki/Technical_background_of_version_1_Bitcoin_addresses#How_to_create_Bitcoin_Address\n",
    "    \n",
    "    master=TreeNode(None,master_pvt_key,pub_key,master_chain_code) #I create a TreeNode instance and pass as parent None, since we are creating the root \n",
    "    \n",
    "    return master\n"
   ]
  },
  {
   "cell_type": "code",
   "execution_count": 6,
   "metadata": {},
   "outputs": [
    {
     "data": {
      "text/plain": [
       "'e8d5d77643db87d5614e16effaf7dcbc9f73a435b1a4cb197261633438948e7d'"
      ]
     },
     "execution_count": 6,
     "metadata": {},
     "output_type": "execute_result"
    }
   ],
   "source": [
    "master_info=get_master_info(seed)\n",
    "master_info.pvt_key\n"
   ]
  },
  {
   "cell_type": "markdown",
   "metadata": {},
   "source": [
    "Now that we have the master we have to create the children.In order to do so we need the parent's public or private key, the child index and the parent chain code. The last one is needed in order to introduce deterministic random data so that something more is required than the index and the child key to get to the siblings of a determined node. \n",
    "We have two types of children:\n",
    "1) regular children which are derived using the public address of the parent\n",
    "![pic](CryptoProject/pic6.png)",
    "2) hardened children which are derived from the private address of the parent\n",
    "![pic](CryptoProject/pic5.png)",
    "Hardened children are particularly useful when we deal with public extended keys where we need to consider the possibility of having a children private key leaked. Since from the extended public address we can derive the chain code it is possible using the two to get the private keys of other children or even worse the one of the master. So we want to break the relationship between parent public key and child chain code.In this way the public key doesn't give any useful info on the other children private keys.In this way we can create extended public keys which are not vulnerable.\n"
   ]
  },
  {
   "cell_type": "code",
   "execution_count": 7,
   "metadata": {},
   "outputs": [],
   "source": [
    "\"\"\"in this section I create a children from the public key of the master\"\"\"\n",
    "\n",
    "def create_children(parent,index,num): #the index should be passed as a 32 bit hex, num represents the number od children we want to create \n",
    "  \n",
    "    for i in range(0,num): \n",
    "        \n",
    "        input_bytearray=str.encode(parent.pub_key)+str.encode(parent.chain_code)+str.encode(hex(int(index, 16)+i)[2:]) #here I concatenate all the values that should be hashed \n",
    "        \n",
    "        child_info=hmac.new(input_bytearray,None,hashlib.sha512).hexdigest() #Here I perform HMAC-SHA512 on the input string\n",
    "        \n",
    "        pvt_key=child_info[:64] #similarly as the master we extract the private key\n",
    "        \n",
    "        chain_code=child_info[64:]\n",
    "        \n",
    "        pvt=int(pvt_key, 16) #compliance transformations \n",
    "        \n",
    "        child_pub_key=keys.get_public_key(pvt,curve.secp256k1)\n",
    "        \n",
    "        pub_key= hex(child_pub_key.y)[2:4]+hex(child_pub_key.x)[2:] #same as master \n",
    "        \n",
    "        child=TreeNode(parent.pvt_key,pvt_key,pub_key,chain_code) #I create the TreeNode entity\n",
    "        \n",
    "        parent.children.append(child) #I append the new entity to the list of children of the parent "
   ]
  },
  {
   "cell_type": "code",
   "execution_count": 8,
   "metadata": {},
   "outputs": [],
   "source": [
    "\"\"\"In this section I define a function to derive child addresses using hardened derivation\"\"\"\n",
    "\n",
    "def create_hardened_children(parent,index,num): #the index should be passed as a 32 bit hex\n",
    "  \n",
    "    for i in range(0,num): \n",
    "        \n",
    "        input_bytearray=str.encode(parent.pvt_key)+str.encode(parent.chain_code)+str.encode(hex(int(index, 16)+i)[2:]) #here I concatenate all the values that should be hashed \n",
    "        \n",
    "        child_info=hmac.new(input_bytearray,None,hashlib.sha512).hexdigest() #Here I perform HMAC-SHA512 on the input string\n",
    "        \n",
    "        pvt_key=child_info[:64] #similarly as the master we extract the private key\n",
    "        \n",
    "        chain_code=child_info[64:]\n",
    "        \n",
    "        pvt=int(pvt_key, 16) #compliance transformations \n",
    "        \n",
    "        child_pub_key=keys.get_public_key(pvt,curve.secp256k1)\n",
    "        \n",
    "        pub_key= hex(child_pub_key.y)[2:4]+hex(child_pub_key.x)[2:] #same as master \n",
    "        \n",
    "        child=TreeNode(parent.pvt_key,pvt_key,pub_key,chain_code) #I create the TreeNode entity\n",
    "        \n",
    "        parent.children.append(child) #I append the new entity to the list of children of the parent \n",
    "            "
   ]
  },
  {
   "cell_type": "markdown",
   "metadata": {},
   "source": [
    "Now we are ready to create some children, as an example I create two regular children and and one hardened children. "
   ]
  },
  {
   "cell_type": "code",
   "execution_count": 9,
   "metadata": {},
   "outputs": [
    {
     "name": "stdout",
     "output_type": "stream",
     "text": [
      "Private Key acc2c444927b3968334ad726f3732a2b6f2beb59c5008ce0f52871586137a6dc\n",
      "Public Key e8438513512712d42bce4ccf0853162afc52b88c2347bf21f49ddb9943dca9d301\n",
      "Chain Code 4f48e7f7e8960903b2e54bbea5e75536c0bbdf251e9ee8b89c490ecb2d55807b\n",
      "-------------------------------------------------------------------------\n",
      "Private Key f8b78cec5a78ce9f192eb78a34712d82ed6eda602bdbb473b1c30d0cb3f92ae9\n",
      "Public Key 71171132a0ee77c8abadc8d26f7f06c2bf539c015ce201608db940f298f4efb443\n",
      "Chain Code ddc1f64d834fe9e7f69bae9487db8b3de2caf5f302546c93f2985ab00dfee688\n",
      "-------------------------------------------------------------------------\n",
      "Private Key e61bafbbce8bbe120d3d00056b5cb86f230305212665a68c51ddfba2bce07d08\n",
      "Public Key 56bafc0366e1513759ae8385617b5954affa6aa57fbe3a4b6d20cdd52e52113a0a\n",
      "Chain Code e9b959b1caeebb74530777e1bab37f957874d2d6a86da71aeec7ac9a40982b95\n",
      "-------------------------------------------------------------------------\n"
     ]
    }
   ],
   "source": [
    "create_children(master_info,\"00000000\",2)\n",
    "create_hardened_children(master_info,\"80000000\",1)\n",
    "\n",
    "for i in master_info.children:\n",
    "        print(\"Private Key \" + i.pvt_key)\n",
    "        print(\"Public Key \" + i.pub_key)\n",
    "        print(\"Chain Code \" + i.chain_code)\n",
    "        print(\"-------------------------------------------------------------------------\")"
   ]
  },
  {
   "cell_type": "markdown",
   "metadata": {},
   "source": [
    "Now that we have some children let's create some grandkids. Each child will have one hardened children and two regular children. The result will show a total of nine nodes (3x3=9)"
   ]
  },
  {
   "cell_type": "code",
   "execution_count": 10,
   "metadata": {
    "scrolled": false
   },
   "outputs": [
    {
     "name": "stdout",
     "output_type": "stream",
     "text": [
      "Private Key 94224b109f7f33e8e6ec855f907dbc8313c4c268e4f41b7f037386703d6cee37\n",
      "Public Key 2d62e74970d05188bad975615ba377278ff16948316c648cb5e4d5c2c11cb4d242\n",
      "Chain Code 4cc4097010ece315e6330ef5e2065aad47b16187b2d9aa1b424d6f7719895eca\n",
      "-------------------------------------------------------------------------\n",
      "Private Key 29850042be1b5c2603073b9146c98e1b8257e8344bef6c9e9aa17dad79f61698\n",
      "Public Key 135563bba96afea77942301d10063bde4d0a27c4a06b46e000d321e06e753ea391\n",
      "Chain Code a5e3e1a384ccf387c7b970600c2ef3e3291f9934c23af71bb0d2a02921c4e1e0\n",
      "-------------------------------------------------------------------------\n",
      "Private Key 15007fa4c9c57eeae224edce4933f88edddb96ad6be5dcb09100884db7bfb039\n",
      "Public Key 9086d8099a34ceb4833e5a4003269fc65e0acede06db99dfa3bb6fe8505480a4e2\n",
      "Chain Code d42f54181a4bfa439bb885814144f8ffff54746d51a851868f8d7a79d5d0d8c5\n",
      "-------------------------------------------------------------------------\n",
      "Private Key c1cf3852f6d48a2d7d1235bb2c489c83b2220133c72d545ad152a42abff14c39\n",
      "Public Key 2bda2ff510fc2285e55d159a2641203de5e96020a7dcf5e3485347bd5c8e3dbf42\n",
      "Chain Code 5e0d60c02aaa33297117fd38058387887c1136abd4d5a9a42ca43478d55ff1dd\n",
      "-------------------------------------------------------------------------\n",
      "Private Key ea2124d26f8a3acde8bd0f0067942f14ad3d11267a4a59d129d1a8c0d05a5207\n",
      "Public Key de27b1b01b7eca0cc06928ab183813fe9555159a27440224c4de63d52eea786b72\n",
      "Chain Code 1cbfc3dec147ad1e7762c48cd5a3b1e8ce2f61e16e01810e4b61decc36cff3a0\n",
      "-------------------------------------------------------------------------\n",
      "Private Key a5d89c98ca71dfe64f8429e491d827ed6847456919071200fd68b23cd52fcd11\n",
      "Public Key 38d3483c45078ca0776ebe49ed9f3553bdd4965201a53a858d7c16ea4c13278146\n",
      "Chain Code 34439aee4fcac9050d21189c7c0f6b8907cecf06a714916f18fb7d0fdfc77509\n",
      "-------------------------------------------------------------------------\n",
      "Private Key a708946e70ee95c723b46b398cbdaa4cbb9a9da79654cf3a411877f43637b25f\n",
      "Public Key cc420a0d63a1a9c0f10a93eb631a640c6e583f4a0831ad4c2833a3176f6cb79e11\n",
      "Chain Code a7689a47a309aee3efb9ed0f2c9c99259e0a065bc594598f336c1ac93adda01a\n",
      "-------------------------------------------------------------------------\n",
      "Private Key 19dd9506e74dfb3709aa6c4572d071dcd3fa2d2a1a1e216a2c9450b0bc59eec9\n",
      "Public Key fb1a0336b8d0d658e459421902c67f7600dc1cba1a7363d4a9639394bb3e12d75a\n",
      "Chain Code 8e4d4c7bcb736090e75e6fa1ebbd67c4937ae0af4e0152248eeeb64907528d67\n",
      "-------------------------------------------------------------------------\n",
      "Private Key 3ce3b396019b841aa1ba59d1d0d76143e83d15e55a5eac9ada86bf769412a411\n",
      "Public Key 7466078b6a75e6815036c89da0413709be18f82bce15eb0108414118bd8a436ed6\n",
      "Chain Code 92e2dbe4a42858e3ddcd81df6972502a0c57f2679a27ec2f136c1fd15e02243f\n",
      "-------------------------------------------------------------------------\n"
     ]
    }
   ],
   "source": [
    "\"\"\"Lets try to create some grandkids\"\"\"\n",
    "\n",
    "for i in master_info.children:\n",
    "    create_hardened_children(i,\"80000000\",1)\n",
    "    create_children(i,\"00000000\",2)\n",
    "    for j in i.children:\n",
    "        print(\"Private Key \" + j.pvt_key)\n",
    "        print(\"Public Key \" + j.pub_key)\n",
    "        print(\"Chain Code \" + j.chain_code)\n",
    "        print(\"-------------------------------------------------------------------------\")\n",
    "        \n",
    "\n",
    "\n"
   ]
  },
  {
   "cell_type": "code",
   "execution_count": null,
   "metadata": {},
   "outputs": [],
   "source": []
  },
  {
   "cell_type": "code",
   "execution_count": null,
   "metadata": {},
   "outputs": [],
   "source": []
  }
 ],
 "metadata": {
  "kernelspec": {
   "display_name": "Python 3",
   "language": "python",
   "name": "python3"
  },
  "language_info": {
   "codemirror_mode": {
    "name": "ipython",
    "version": 3
   },
   "file_extension": ".py",
   "mimetype": "text/x-python",
   "name": "python",
   "nbconvert_exporter": "python",
   "pygments_lexer": "ipython3",
   "version": "3.8.5"
  }
 },
 "nbformat": 4,
 "nbformat_minor": 4
}
