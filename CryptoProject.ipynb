{
 "cells": [
  {
   "cell_type": "code",
   "execution_count": 1,
   "metadata": {},
   "outputs": [],
   "source": [
    "from mnemonic import Mnemonic\n",
    "from fastecdsa import keys, curve\n",
    "import binascii\n",
    "import hashlib\n",
    "import hmac\n",
    "\n"
   ]
  },
  {
   "cell_type": "code",
   "execution_count": 2,
   "metadata": {},
   "outputs": [],
   "source": [
    "\"\"\"here i create a class to store data in a tree like structure\"\"\"\n",
    "\n",
    "class TreeNode():\n",
    "    \n",
    "    def __init__(self,parent):\n",
    "        self.parent=parent\n",
    "        self.pvt_key=None\n",
    "        self.pub_key=None\n",
    "        self.chain_code =None\n",
    "        self.children = []\n",
    "    "
   ]
  },
  {
   "cell_type": "code",
   "execution_count": 3,
   "metadata": {},
   "outputs": [],
   "source": [
    "\"\"\"Here I define the function needed to generate the seed which is going to be used later \"\"\"\n",
    "\n",
    "def generate_seed(language,passphrase,strenght):\n",
    "   mnemo = Mnemonic(language)\n",
    "   words = mnemo.generate(strength=strenght)\n",
    "   seed = mnemo.to_seed(words, passphrase=passphrase)\n",
    "   print(\"Entropy=\" + str( binascii.hexlify(mnemo.to_entropy(words)))) #prints the entropy in hex\n",
    "   print(\"Words= \" + words)   \n",
    "   print(\"Seed = \"+str(binascii.hexlify(seed))) #prints the seed in hex \n",
    "   return seed\n",
    "   \n"
   ]
  },
  {
   "cell_type": "code",
   "execution_count": 4,
   "metadata": {},
   "outputs": [
    {
     "name": "stdout",
     "output_type": "stream",
     "text": [
      "Entropy=b'83ef384efdb87bfcc6060fbd45c7f458'\n",
      "Words= loop keep beauty window marble wrist blossom sea run comfort wonder rain\n",
      "Seed = b'ba03f39d99bccf30c87bd0e76c7b70f13e260927cce2daa39f3234da3f69e34a0daadef5c75557d7b91d44e5ce2fbfcbe0969ccb1de111a32a30227a31d5400a'\n"
     ]
    }
   ],
   "source": [
    "seed=generate_seed(\"english\",\"test\",128)"
   ]
  },
  {
   "cell_type": "code",
   "execution_count": 5,
   "metadata": {},
   "outputs": [],
   "source": [
    "\"\"\"In this section I derive from the seed the master private key and the master chain code, the private key is the one used to have control over your bank account represented by the public key. The bitcoin address is generated/corresponds from the public key\"\"\"\n",
    "\n",
    "def get_master_info(seed):\n",
    "    master=TreeNode(None)\n",
    "    master_hmac= hmac.new(seed,None,hashlib.sha512).hexdigest()\n",
    "    master_pvt_key=master_hmac[:64]\n",
    "    master.pvt_key=master_pvt_key\n",
    "    master_chain_code=master_hmac[64:]\n",
    "    master.chain_code=master_chain_code\n",
    "    pvt=int(master_pvt_key, 16)\n",
    "    master_pub_key = keys.get_public_key(pvt,curve.secp256k1)\n",
    "    pub_key= hex(master_pub_key.y)[2:4]+hex(master_pub_key.x)[2:] #followed the guide https://en.bitcoin.it/wiki/Technical_background_of_version_1_Bitcoin_addresses#How_to_create_Bitcoin_Address\n",
    "    master.pub_key=pub_key\n",
    "    return master\n"
   ]
  },
  {
   "cell_type": "code",
   "execution_count": 6,
   "metadata": {},
   "outputs": [
    {
     "data": {
      "text/plain": [
       "'fe1279b9396db996fe17e55113b3b3f9a020282801ea8e1352675a60dd96a30f8e'"
      ]
     },
     "execution_count": 6,
     "metadata": {},
     "output_type": "execute_result"
    }
   ],
   "source": [
    "master_info=get_master_info(seed)\n",
    "master_info.pub_key\n"
   ]
  },
  {
   "cell_type": "code",
   "execution_count": 7,
   "metadata": {},
   "outputs": [],
   "source": [
    "\"\"\"In this section I define a function to derive child addresses using hardened derivation\"\"\"\n",
    "\n",
    "def create_hardened_children(parent,index,num): #the index should be passed as a 32 bit hex\n",
    "  \n",
    "    for i in range(0,num): \n",
    "        child=TreeNode(parent.pvt_key)\n",
    "        input_bytearray=str.encode(parent.pvt_key)+str.encode(parent.chain_code)+str.encode(hex(int(index, 16)+i)[2:])\n",
    "        child_info=hmac.new(input_bytearray,None,hashlib.sha512).hexdigest()\n",
    "        child.pvt_key=child_info[:64]\n",
    "        child.chain_code=child_info[64:]\n",
    "        pvt=int(child.pvt_key, 16)\n",
    "        child_pub_key=keys.get_public_key(pvt,curve.secp256k1)\n",
    "        pub_key= hex(child_pub_key.y)[2:4]+hex(child_pub_key.x)[2:] #followed the guide https://en.bitcoin.it/wiki/Technical_background_of_version_1_Bitcoin_addresses#How_to_create_Bitcoin_Address\n",
    "        child.pub_key=pub_key\n",
    "        parent.children.append(child)\n",
    "            "
   ]
  },
  {
   "cell_type": "code",
   "execution_count": 8,
   "metadata": {},
   "outputs": [],
   "source": [
    "\"\"\"in this section I create a children from the public key of the master\"\"\"\n",
    "\n",
    "def create_children(parent,index,num): #the index should be passed as a 32 bit hex\n",
    "  \n",
    "    for i in range(0,num): \n",
    "        child=TreeNode(parent.pvt_key)\n",
    "        input_bytearray=str.encode(parent.pub_key)+str.encode(parent.chain_code)+str.encode(hex(int(index, 16)+i)[2:])\n",
    "        child_info=hmac.new(input_bytearray,None,hashlib.sha512).hexdigest()\n",
    "        child.pvt_key=child_info[:64]\n",
    "        child.chain_code=child_info[64:]\n",
    "        pvt=int(child.pvt_key, 16)\n",
    "        child_pub_key=keys.get_public_key(pvt,curve.secp256k1)\n",
    "        pub_key= hex(child_pub_key.y)[2:4]+hex(child_pub_key.x)[2:] #followed the guide https://en.bitcoin.it/wiki/Technical_background_of_version_1_Bitcoin_addresses#How_to_create_Bitcoin_Address\n",
    "        child.pub_key=pub_key\n",
    "        parent.children.append(child)"
   ]
  },
  {
   "cell_type": "code",
   "execution_count": 9,
   "metadata": {},
   "outputs": [
    {
     "name": "stdout",
     "output_type": "stream",
     "text": [
      "Private Key 7c91c2d53d49ad6536891a40b9bb7d43f0105e6649071655568a3ad80ffbc1b8\n",
      "Public Key 87e4d962c7f7c69769681b80a21ba9c709a6ab8ea4f8a115ca05d4ca9f29dca4f6\n",
      "Chain Code e5fca57064f1460fa5f4667798e955795ead6b21a1a868134453ee6e5ea5d9f2\n",
      "-------------------------------------------------------------------------\n",
      "Private Key 052b3eab86ded2803f372b3112fe00f248501e37183165ae6f9ebee8e038e395\n",
      "Public Key f679b138182a444220839152642b35cf8a650117e458ad5e9c7c1f5202e1c1627c\n",
      "Chain Code de7fa24841fb0e521434b8765497cba248a9d4fd1da62ff4138847122e797af4\n",
      "-------------------------------------------------------------------------\n",
      "Private Key bed661f7560017f5fdd0816c09028ddaa27c38fc00b70193f1821a2706b7a62a\n",
      "Public Key 57d149bbc1a2035a34fc916740fa9829534b21a6b10f1d563e9133a45171333b11\n",
      "Chain Code e992093173a630b4d4e54fdd962b463ee5da61d6ae73f359c31c258959e62c9c\n",
      "-------------------------------------------------------------------------\n"
     ]
    }
   ],
   "source": [
    "create_children(master_info,\"00000000\",2)\n",
    "create_hardened_children(master_info,\"80000000\",1)\n",
    "\n",
    "for i in master_info.children:\n",
    "        print(\"Private Key \" + i.pvt_key)\n",
    "        print(\"Public Key \" + i.pub_key)\n",
    "        print(\"Chain Code \" + i.chain_code)\n",
    "        print(\"-------------------------------------------------------------------------\")\n",
    "        "
   ]
  },
  {
   "cell_type": "code",
   "execution_count": 10,
   "metadata": {
    "scrolled": false
   },
   "outputs": [
    {
     "name": "stdout",
     "output_type": "stream",
     "text": [
      "Private Key 5bb4d5a17163d354318c5cf1c976e1d88959845956727cf6673f7bcda9929862\n",
      "Public Key 6b4b7d53ed6fcefa38e4b70baa777483a2b11df3a003b5fb3c820ead5f1ee866a8\n",
      "Chain Code 95ba24bf27ea062619eef67eba7684c01d2172cfa787e4937d92d9931e084555\n",
      "-------------------------------------------------------------------------\n",
      "Private Key 27a695763b39acf25885515dabafa9685f1d51dbe2459c2540da76d1a543d8ef\n",
      "Public Key c03332b9e66916e278d969925f763a704baa914f0448860cd488f852190e83284\n",
      "Chain Code bf49cbe3b185641657e2cbb031422995b7667bf7e46aac06bf558d2bb5af4c51\n",
      "-------------------------------------------------------------------------\n",
      "Private Key bcd110c5236aabb35939691082db5bf1dcaef9e1adee8fab355ca4043463d940\n",
      "Public Key ae222bf6c64e53be1879fb04dfc7f92f5d3d7f226122912729004ce47062d8bb7e\n",
      "Chain Code eee2af2d64f5ae78b0a8965ebc74a7adf63768368587b6a7a35504bc6397c441\n",
      "-------------------------------------------------------------------------\n",
      "Private Key 6c601ff1d32b04ec3695698695ac25d49a544f05391a5ec548678419af87fa59\n",
      "Public Key 126f7a79deb698e0c46496b0fa56a068e323e43388cb939c0f763d097ec88873d9\n",
      "Chain Code 8533ebd1c591c2221694878fc115b9af8609f637ccdbc4be3f0e543492c92d97\n",
      "-------------------------------------------------------------------------\n",
      "Private Key ad578f5c1a6c7779db512a0e8fc4aa50f9622d833dc3f20ca0f0e52759b62df7\n",
      "Public Key d9258ec53feafdae9702d2f30e192ba04d98d7b1c52147487d8db9029d163688a7\n",
      "Chain Code 71cdc113ddea0ee4919ecf1b9d4cea06c01aa8d098cc5ae1a6152821c7bf1133\n",
      "-------------------------------------------------------------------------\n",
      "Private Key 7eb78ef0ac04933bee515fe9a7afb11259fa43b829a774588dee97f979929ebb\n",
      "Public Key 93d5c78a900fe3ce5cfdf746e4458829fd354bea7530b979644c434db66d1add25\n",
      "Chain Code 6fa6c295903d90fb6ab42b32e16dc8311775547d649fda94ee0978c302b60feb\n",
      "-------------------------------------------------------------------------\n",
      "Private Key e8749807ecfe829bb0b857180c342809426ea73e6a12be82f87f9fdaa4b685bb\n",
      "Public Key ef833c5b4b0fa5c2f766b539483a10ff938f58d0fed5ecc016ca707aa13fc725d9\n",
      "Chain Code 762ee6bcf899cfc20102f4e635e5272f502602e287afd85ab63fe46a1a29c151\n",
      "-------------------------------------------------------------------------\n",
      "Private Key fa23ae8366511b1d9b4ecf0177b45cd63cf7727c9a3056a2d38300b523fd999d\n",
      "Public Key e68c04b04fb8740fcc8972fb01c7c1888663000e2c0649a6ea1f7f829fff855df3\n",
      "Chain Code 9dfa19a7e049b5ebc980d6a5ef479206bbc83dbbbae1acec350115504e66a79b\n",
      "-------------------------------------------------------------------------\n",
      "Private Key f4aaf6ff44e8c396434be2bc740f2d590f0039f1280a2acdc4e7a80a0b4fe2a6\n",
      "Public Key 29a66bbfc683a81a136b353a0e54d24071e19b5233f43409a11dc770c55d963777\n",
      "Chain Code fc790da52c3fd0799624dcc90772538ed9ce0ca788a628020383c71483b523cd\n",
      "-------------------------------------------------------------------------\n"
     ]
    }
   ],
   "source": [
    "\"\"\"Lets try to create some grandkids\"\"\"\n",
    "\n",
    "for i in master_info.children:\n",
    "    create_hardened_children(i,\"80000000\",1)\n",
    "    create_children(i,\"00000000\",2)\n",
    "    for j in i.children:\n",
    "        print(\"Private Key \" + j.pvt_key)\n",
    "        print(\"Public Key \" + j.pub_key)\n",
    "        print(\"Chain Code \" + j.chain_code)\n",
    "        print(\"-------------------------------------------------------------------------\")\n",
    "        \n",
    "\n",
    "\n"
   ]
  },
  {
   "cell_type": "code",
   "execution_count": null,
   "metadata": {},
   "outputs": [],
   "source": []
  },
  {
   "cell_type": "code",
   "execution_count": null,
   "metadata": {},
   "outputs": [],
   "source": []
  }
 ],
 "metadata": {
  "kernelspec": {
   "display_name": "Python 3",
   "language": "python",
   "name": "python3"
  },
  "language_info": {
   "codemirror_mode": {
    "name": "ipython",
    "version": 3
   },
   "file_extension": ".py",
   "mimetype": "text/x-python",
   "name": "python",
   "nbconvert_exporter": "python",
   "pygments_lexer": "ipython3",
   "version": "3.8.5"
  }
 },
 "nbformat": 4,
 "nbformat_minor": 4
}
