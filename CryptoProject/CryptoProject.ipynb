{
 "cells": [
  {
   "cell_type": "markdown",
   "metadata": {},
   "source": [
    "# HD BITCOIN WALLET"
   ]
  },
  {
   "cell_type": "markdown",
   "metadata": {},
   "source": [
    "This project aims to implement and Hierarchical Deterministic(HD) wallet using the bitcoin standards BIP-32 \n",
    "and BIP-39 by following the guidelines from the book Mastering Bitcoin. An HD wallet allows to derive many keys \n",
    "from a single seed stored in a tree structure. With respect to non deterministic wallets, where keys are generated \n",
    "at random and have no connection with one another, the HD wallet allows for simpler managment and doesn't require\n",
    "to keep copies of all the keys since they can all be derived from the seed. Furthermore HD wallets allow to derive \n",
    "public keys without the need to access to the associated private keys which guarantees additional security in \n",
    "insecure scenarios.\n",
    "\n",
    "<img src=\"pic.png\" style =\"width:500px; height: 300px\">"
   ]
  },
  {
   "cell_type": "code",
   "execution_count": 1,
   "metadata": {},
   "outputs": [],
   "source": [
    "\"\"\"Now we import all the required libraries\"\"\"\n",
    "\n",
    "from mnemonic import Mnemonic\n",
    "from fastecdsa import keys, curve\n",
    "import binascii\n",
    "import hashlib\n",
    "import hmac\n",
    "\n"
   ]
  },
  {
   "cell_type": "code",
   "execution_count": 2,
   "metadata": {},
   "outputs": [],
   "source": [
    "\"\"\"here i create a class to store data in a tree like structure, every node has a parent, a private key,\n",
    "a chain code and a list of children\"\"\"\n",
    "\n",
    "class TreeNode():\n",
    "    \n",
    "    def __init__(self,parent,pvt_key,pub_key,chain_code): #every node has a parent, the master will have None as input\n",
    "        self.parent=parent\n",
    "        self.pvt_key=pvt_key \n",
    "        self.pub_key=pub_key\n",
    "        self.chain_code =chain_code\n",
    "        self.children = []\n",
    "    "
   ]
  },
  {
   "cell_type": "markdown",
   "metadata": {},
   "source": [
    "Now we need to follow the seed generation procedure as described by BIP-39. The whole process is performed in a few commands thanks to the Mnemonic library.The concept is of generating a random entropy which is then mapped to some words (mnemonic words), which can be used to generate the actual seed.The idea of using mnemonic words comes from the fact that they are much simpler to remember than the seed itself and can be used to unambigously retrive all of the keys in the wallet, allowing for a backup in case of loss or destruction. The whole procedure is explained in the following images\n",
    "<img src=\"pic2.png\" style =\"width:700px; height: 500px\">\n",
    "<img src=\"pic3.png\" style =\"width:700px; height: 500px\">\n"
   ]
  },
  {
   "cell_type": "code",
   "execution_count": 3,
   "metadata": {},
   "outputs": [],
   "source": [
    "\"\"\"Here I define the function needed to generate the seed which is going to be used later \"\"\"\n",
    "\n",
    "def generate_seed(language,passphrase,strenght): #strenght refers to the lenght in bits of the entropy to generate \n",
    "                                                 #passphrase is an additional value used to append to the salt for PBKDF2\n",
    "    \n",
    "   mnemo = Mnemonic(language)\n",
    "\n",
    "   words = mnemo.generate(strength=strenght) #this command performs steps 1 to 5 and saves the words in a vavariable\n",
    "    \n",
    "   seed = mnemo.to_seed(words, passphrase=passphrase)#here we retrieve the seed from the words (step 7 to 9)\n",
    "\n",
    "   print(\"Entropy=\" + str( binascii.hexlify(mnemo.to_entropy(words)))) #prints the entropy in hex\n",
    "    \n",
    "   print(\"Words= \" + words)   \n",
    "\n",
    "   print(\"Seed = \"+str(binascii.hexlify(seed))) #prints the seed in hex \n",
    "    \n",
    "   return seed \n",
    "   \n"
   ]
  },
  {
   "cell_type": "code",
   "execution_count": 4,
   "metadata": {},
   "outputs": [
    {
     "name": "stdout",
     "output_type": "stream",
     "text": [
      "Entropy=b'9c0dc86c55b40e57cc7b376d84200424'\n",
      "Words= orchard hour brand problem domain cloud cradle group horn canal absurd embark\n",
      "Seed = b'447efd4feb58011d806fd2724156dd4b2e06d5c2fddec71b3d2348fd4ac93ab46cfa8dc6c4cd2eebfe3f4935f499378b376724d102b354d84a79b0c4c832c0e5'\n"
     ]
    }
   ],
   "source": [
    "#Here we simply test our function and check the values generated \n",
    "seed=generate_seed(\"english\",\"test\",128)"
   ]
  },
  {
   "cell_type": "markdown",
   "metadata": {},
   "source": [
    "Now that we have the seed it's time to generate the master. We make use of HMAC-SHA512 in order to have a fixed lenght output and to protect the seed from some possible attacks(to this end the hash is one way).It is worth noticing that the public key is then generated starting from the private key using ellipric curve theory, where public key = G*private key and G is the generator point of the curve. As the theory suggests, the public key is a pair of coordinates x and y, so to obtain the actual public key I take the first two bytes of the y coordinate and combine them with all the ones from the x axis. The following picture explains the process:\n",
    "<img src=\"pic4.png\" style =\"width:600px; height: 400px\">"
   ]
  },
  {
   "cell_type": "code",
   "execution_count": 5,
   "metadata": {},
   "outputs": [],
   "source": [
    "\"\"\"In this section I derive from the seed the master private key and the master chain code, \n",
    "the private key is the one used to have control over your bank account represented by the public key. \n",
    "The bitcoin address is generated/corresponds from/to the public key\"\"\"\n",
    "\n",
    "def get_master_info(seed):\n",
    "    \n",
    "    master_hmac= hmac.new(seed,None,hashlib.sha512).hexdigest() #here we perform HMAC-SHA512 on the root seed\n",
    "    \n",
    "    master_pvt_key=master_hmac[:64] #we pick the first 256 bits (256/4=64 since we are working in hex) \n",
    "    \n",
    "    master_chain_code=master_hmac[64:] #we extract the chain code using a similar logic \n",
    "    \n",
    "    #Now we need to derive the public key for our master and I have used fastecdsa for a quick result\n",
    "    \n",
    "    pvt=int(master_pvt_key, 16) #some conversion for compliance with the function \n",
    "    \n",
    "    master_pub_key = keys.get_public_key(pvt,curve.secp256k1) # we generate the public key using the secp256k1 elliptic curve \n",
    "    \n",
    "    pub_key= hex(master_pub_key.y)[2:4]+hex(master_pub_key.x)[2:] #for the serialization of the public key i used the hints at: https://en.bitcoin.it/wiki/Technical_background_of_version_1_Bitcoin_addresses#How_to_create_Bitcoin_Address\n",
    "    \n",
    "    master=TreeNode(None,master_pvt_key,pub_key,master_chain_code) #I create a TreeNode instance and pass as parent None, since we are creating the root \n",
    "    \n",
    "    return master\n"
   ]
  },
  {
   "cell_type": "code",
   "execution_count": 6,
   "metadata": {},
   "outputs": [
    {
     "data": {
      "text/plain": [
       "'17c1a782153e996f008fa69cd480c275b55f1ce44cc95df370cb82f999fcb235'"
      ]
     },
     "execution_count": 6,
     "metadata": {},
     "output_type": "execute_result"
    }
   ],
   "source": [
    "master_info=get_master_info(seed)\n",
    "master_info.pvt_key\n"
   ]
  },
  {
   "cell_type": "markdown",
   "metadata": {},
   "source": [
    "Now that we have the master we have to create the children.In order to do so we need the parent's public or private key, the child index and the parent chain code. The last one is needed in order to introduce deterministic random data so that something more is required than the index and the child key to get to the siblings of a determined node. \n",
    "We have two types of children:\n",
    "1) regular children which are derived using the public address of the parent\n",
    "<img src=\"pic6.png\" style =\"width:600px; height: 400px\">\n",
    "2) hardened children which are derived from the private address of the parent\n",
    "<img src=\"pic5.png\" style =\"width:600px; height: 400px\">\n",
    "Hardened children are particularly useful when we are with public extended keys where we need to deal with the possibility of having a children private key leaked. Since from the extended public address we can derive the chain code it is possible using the two to get the private keys of other children or even worse the one of the master. So we want to break the relationship between parent public key and child chain code.In this way the public key doesn't give any useful info on the other children private keys.In this way we can create extended public keys which are not vulnerable.\n"
   ]
  },
  {
   "cell_type": "code",
   "execution_count": 7,
   "metadata": {},
   "outputs": [],
   "source": [
    "\"\"\"in this section I create a children from the public key of the master\"\"\"\n",
    "\n",
    "def create_children(parent,index,num): #the index should be passed as a 32 bit hex, num represents the number od children we want to create \n",
    "  \n",
    "    for i in range(0,num): \n",
    "        \n",
    "        input_bytearray=str.encode(parent.pub_key)+str.encode(parent.chain_code)+str.encode(hex(int(index, 16)+i)[2:]) #here I concatenate all the values that should be hashed \n",
    "        \n",
    "        child_info=hmac.new(input_bytearray,None,hashlib.sha512).hexdigest() #Here I perform HMAC-SHA512 on the input string\n",
    "        \n",
    "        pvt_key=child_info[:64] #similarly as the master we extract the private key\n",
    "        \n",
    "        chain_code=child_info[64:]\n",
    "        \n",
    "        pvt=int(pvt_key, 16) #compliance transformations \n",
    "        \n",
    "        child_pub_key=keys.get_public_key(pvt,curve.secp256k1)\n",
    "        \n",
    "        pub_key= hex(child_pub_key.y)[2:4]+hex(child_pub_key.x)[2:] #same as master \n",
    "        \n",
    "        child=TreeNode(parent.pvt_key,pvt_key,pub_key,chain_code) #I create the TreeNode entity\n",
    "        \n",
    "        parent.children.append(child) #I append the new entity to the list of children of the parent "
   ]
  },
  {
   "cell_type": "code",
   "execution_count": 8,
   "metadata": {},
   "outputs": [],
   "source": [
    "\"\"\"In this section I define a function to derive child addresses using hardened derivation\"\"\"\n",
    "\n",
    "def create_hardened_children(parent,index,num): #the index should be passed as a 32 bit hex\n",
    "  \n",
    "    for i in range(0,num): \n",
    "        \n",
    "        input_bytearray=str.encode(parent.pvt_key)+str.encode(parent.chain_code)+str.encode(hex(int(index, 16)+i)[2:]) #here I concatenate all the values that should be hashed \n",
    "        \n",
    "        child_info=hmac.new(input_bytearray,None,hashlib.sha512).hexdigest() #Here I perform HMAC-SHA512 on the input string\n",
    "        \n",
    "        pvt_key=child_info[:64] #similarly as the master we extract the private key\n",
    "        \n",
    "        chain_code=child_info[64:]\n",
    "        \n",
    "        pvt=int(pvt_key, 16) #compliance transformations \n",
    "        \n",
    "        child_pub_key=keys.get_public_key(pvt,curve.secp256k1)\n",
    "        \n",
    "        pub_key= hex(child_pub_key.y)[2:4]+hex(child_pub_key.x)[2:] #same as master \n",
    "        \n",
    "        child=TreeNode(parent.pvt_key,pvt_key,pub_key,chain_code) #I create the TreeNode entity\n",
    "        \n",
    "        parent.children.append(child) #I append the new entity to the list of children of the parent \n",
    "            "
   ]
  },
  {
   "cell_type": "markdown",
   "metadata": {},
   "source": [
    "Now we are ready to create some children, as an example I create two regular children and and one hardened children. "
   ]
  },
  {
   "cell_type": "code",
   "execution_count": 9,
   "metadata": {},
   "outputs": [
    {
     "name": "stdout",
     "output_type": "stream",
     "text": [
      "Private Key ec5fbff946aac4910aa8c35b50a71f0023dceaa70a138382da04af5487b5de9a\n",
      "Public Key 7f473d0d6132f6c9749dc28a91ed740fd7b8c962ef31a101d284f538f2afc1aa04\n",
      "Chain Code 305fff2f5361f1a2d06219f096fc2316c48b12144f3f6b1cb42e617914749217\n",
      "-------------------------------------------------------------------------\n",
      "Private Key f8c351852587394a76bcb45d39ca2194d5f4bc8f028ab25c3a15e3db46f167a2\n",
      "Public Key e9d8f84125e00e115df22491991b162ad231af0fa6756bed124f5d303738774947\n",
      "Chain Code f08c02cd8b9c5c6eb3b5c758bec6e2b974d49761df5f3d8ffe9cc65595573f11\n",
      "-------------------------------------------------------------------------\n",
      "Private Key baa077b16f122417d1ca4741972eb759d772c465b9c432d54982b4f5c61f14e5\n",
      "Public Key af4ce8802ceea99bbb477cd0e5055809a33de387343b8a4445992817f54d512bee\n",
      "Chain Code d1d9fa0cbe45a5323150ba921e357a002b5d2401bd7040b30e88a99e4fb806c8\n",
      "-------------------------------------------------------------------------\n"
     ]
    }
   ],
   "source": [
    "create_children(master_info,\"00000000\",2)\n",
    "create_hardened_children(master_info,\"80000000\",1)\n",
    "\n",
    "for i in master_info.children:\n",
    "        print(\"Private Key \" + i.pvt_key)\n",
    "        print(\"Public Key \" + i.pub_key)\n",
    "        print(\"Chain Code \" + i.chain_code)\n",
    "        print(\"-------------------------------------------------------------------------\")"
   ]
  },
  {
   "cell_type": "markdown",
   "metadata": {},
   "source": [
    "Now that we have some children let's create some grandkids. Each child will have one hardened children and two regular children. The result will show a total of nine nodes (3x3=9)"
   ]
  },
  {
   "cell_type": "code",
   "execution_count": 10,
   "metadata": {
    "scrolled": false
   },
   "outputs": [
    {
     "name": "stdout",
     "output_type": "stream",
     "text": [
      "Private Key 631467fc94a79fbbf369bf1cef0aa9c1870c9b01f8b7984aae17408b6b94eb1a\n",
      "Public Key 9e93184bf7a4a22ee65fc624dcaf562b7d6ae2c7c4d9c82e769cc302f4d94b69d\n",
      "Chain Code a30a4d219314acfcd48529362b866b41908146753bcddde25074410bc3a8cc43\n",
      "-------------------------------------------------------------------------\n",
      "Private Key 41a4cf4ac2db3a8c6e4e5b5df61483bd02c47c251277f087efd834ee321f6b1f\n",
      "Public Key 54c8ec205337f089deb0a1720e508eede6de6cbd9a99a93cc4dac06ff4eebcf4be\n",
      "Chain Code 8943304f01d5516a72671dbd21fdd6a04601a85c520d7f1695e3d32a85540091\n",
      "-------------------------------------------------------------------------\n",
      "Private Key b4d7c4b065ec322306dd197123968b4f50be9c4bff7d3eee05406c4b2e026645\n",
      "Public Key b6105f2e7f24e9cb1d03d284ce6ff4ecc2be03bb1d2a16bf99ff033620b1b1ad47\n",
      "Chain Code 4a5e89568db56a551bcc6b1e2c9a38ef9e48a9b86f1bb533b4bdbe83f4b6d82b\n",
      "-------------------------------------------------------------------------\n",
      "Private Key e84c775d7dee36f15e931dffd10568d0c22e3478559ee1fcb297913602c9c48a\n",
      "Public Key bf386bd302733d818a707595bd80ea3e26fddf62c9df6344c10f795afaffeb7ee2\n",
      "Chain Code 5773034f9fb0f8b0dcaa6997e2114dac0caafd41d90b639717ebc88353715de4\n",
      "-------------------------------------------------------------------------\n",
      "Private Key a2378b29c3d6817dc6b0784c4e094d134e7dd424b5881f6a41ca15a65060b544\n",
      "Public Key 1db9e0bad9bf7977ad40b43015a926f9307b2167310d4e9be28193f19791631401\n",
      "Chain Code 72adb902f08351cdb79322ae1cee482dcb3b1f96a9d8631c4004f3ff33e76236\n",
      "-------------------------------------------------------------------------\n",
      "Private Key 0eb518e5430ad1fe1f77681b2514bfb7203fd23914eda75105502c00fcd1806d\n",
      "Public Key d4244a8c37c9b90240cfa141b389967b1fe8b5826a84f5ac6d3c11369fdc467285\n",
      "Chain Code 344cb61f79448f5c30dc1977f150d4854a616de0d71df6206a93b6868fa1e725\n",
      "-------------------------------------------------------------------------\n",
      "Private Key b918527571fe36a33de4d166ce3503024ef3eed6030673a3c2203e1b9756b136\n",
      "Public Key 6cbd93c3e13c4622fd17cffe9dcb53f34d81a7eb015f264c0cd57e447672205472\n",
      "Chain Code 7e352cbce369d4c7c63ea93625ec3ab73959caede37b9bff29379864db7ff7c2\n",
      "-------------------------------------------------------------------------\n",
      "Private Key 06ae63394b74bd803561a669d62d21a3d6e674ac2c5e402bcd08d86cf449455b\n",
      "Public Key 1bcdc60c84619a6abfbed9236a744350c0fd4ff9d8853bded6375c85b8a68f265b\n",
      "Chain Code 8c7cb86b746b6b22a4d15ba4c78530fafa935006f06c9b5699a014d594a9069e\n",
      "-------------------------------------------------------------------------\n",
      "Private Key 7fc13927fef8bea36e91345789b30a1024f84bc87fcb8ed187c0b342adf5cae6\n",
      "Public Key a32f2c1e6b6c25c077cc1e245101e6e7e5323fa2dc5d1bae7dd7f0e5ad4a54f9b3\n",
      "Chain Code 9ef6ff7df0475ce751cfb2d88d96acdc5c5deaead6dcdac7ef3636c87ba0fdb1\n",
      "-------------------------------------------------------------------------\n"
     ]
    }
   ],
   "source": [
    "\"\"\"Lets try to create some grandkids\"\"\"\n",
    "\n",
    "for i in master_info.children:\n",
    "    create_hardened_children(i,\"80000000\",1)\n",
    "    create_children(i,\"00000000\",2)\n",
    "    for j in i.children:\n",
    "        print(\"Private Key \" + j.pvt_key)\n",
    "        print(\"Public Key \" + j.pub_key)\n",
    "        print(\"Chain Code \" + j.chain_code)\n",
    "        print(\"-------------------------------------------------------------------------\")\n",
    "        \n",
    "\n",
    "\n"
   ]
  },
  {
   "cell_type": "code",
   "execution_count": null,
   "metadata": {},
   "outputs": [],
   "source": []
  },
  {
   "cell_type": "code",
   "execution_count": null,
   "metadata": {},
   "outputs": [],
   "source": []
  }
 ],
 "metadata": {
  "kernelspec": {
   "display_name": "Python 3",
   "language": "python",
   "name": "python3"
  },
  "language_info": {
   "codemirror_mode": {
    "name": "ipython",
    "version": 3
   },
   "file_extension": ".py",
   "mimetype": "text/x-python",
   "name": "python",
   "nbconvert_exporter": "python",
   "pygments_lexer": "ipython3",
   "version": "3.8.5"
  }
 },
 "nbformat": 4,
 "nbformat_minor": 4
}
